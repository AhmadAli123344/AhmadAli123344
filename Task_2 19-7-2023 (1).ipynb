{
 "cells": [
  {
   "cell_type": "markdown",
   "id": "5805c2d3",
   "metadata": {},
   "source": [
    "# Assignment 19-7-2023\n",
    "# Ahmad Ali\n",
    "# C1-04"
   ]
  },
  {
   "cell_type": "markdown",
   "id": "0fbb20c3",
   "metadata": {},
   "source": [
    "# Uploading Image"
   ]
  },
  {
   "cell_type": "code",
   "execution_count": 35,
   "id": "7b24ce0d",
   "metadata": {},
   "outputs": [],
   "source": [
    "import cv2\n",
    "i=cv2.imread('the-black-apple.jpg',cv2.IMREAD_GRAYSCALE)\n",
    "cv2.imshow('Apple',i)\n",
    "cv2.waitKey(500)\n",
    "cv2.destroyAllWindows()"
   ]
  },
  {
   "cell_type": "markdown",
   "id": "203d3ecc",
   "metadata": {},
   "source": [
    "# Color Intesity changing"
   ]
  },
  {
   "cell_type": "code",
   "execution_count": 114,
   "id": "cbe2f2a2",
   "metadata": {},
   "outputs": [],
   "source": [
    "import cv2\n",
    "image=cv2.imread('image1.jpg')\n",
    "cv2.imshow('Friend',image)\n",
    "cv2.waitKey(0)\n",
    "cv2.destroyAllWindows()\n",
    "\n",
    "\n",
    "image_gray=cv2.cvtColor(image,cv2.COLOR_BGR2GRAY)\n",
    "# image_gray=cv2.cvtColor(image,cv2.COLOR_BGR2RGB)\n",
    "\n",
    "cv2.imshow('gray_fig',image_gray)\n",
    "cv2.waitKey(0)\n",
    "cv2.destroyAllWindows()\n",
    "\n",
    "image1=cv2.cvtColor(image_gray, cv2.COLOR_GRAY2BGR)\n",
    "\n",
    "cv2.imshow('color_image',image1)\n",
    "cv2.waitKey(0)\n",
    "cv2.destroyAllWindows()"
   ]
  },
  {
   "cell_type": "code",
   "execution_count": 113,
   "id": "735ba097",
   "metadata": {},
   "outputs": [],
   "source": [
    "import numpy as np\n",
    "\n",
    "i=cv2.imread('the-black-apple.jpg',cv2.IMREAD_GRAYSCALE)\n",
    "image1=cv2.equalizeHist(i)\n",
    "\n",
    "image=np.hstack((i,image1))\n",
    "cv2.imshow('image',image)\n",
    "cv2.waitKey(500)\n",
    "cv2.destroyAllWindows()\n",
    "\n",
    "image2=cv2.normalize(image,None,0,255,cv2.NORM_MINMAX,cv2.CV_8U)\n",
    "cv2.imshow('image',image2)\n",
    "cv2.waitKey(0)\n",
    "cv2.destroyAllWindows()"
   ]
  },
  {
   "cell_type": "markdown",
   "id": "8651ad20",
   "metadata": {},
   "source": [
    "## Often image normalization is used to increase contrast which aids in improved feature extraction or image segmentation. Often times Image Normalization is used to remove noise from the picture."
   ]
  },
  {
   "cell_type": "markdown",
   "id": "bfdd9fed",
   "metadata": {},
   "source": [
    "# Channel Manipulation"
   ]
  },
  {
   "cell_type": "code",
   "execution_count": 111,
   "id": "b0f0cc60",
   "metadata": {},
   "outputs": [],
   "source": [
    "image=cv2.imread('image6.jpg')\n",
    "r,g,b=cv2.split(image)\n",
    "cv2.imshow('blue_image',r)\n",
    "cv2.imshow('green_image',g)\n",
    "cv2.imshow('red_image',b)\n",
    "cv2.waitKey(500)\n",
    "cv2.destroyAllWindows()"
   ]
  },
  {
   "cell_type": "markdown",
   "id": "f64594a4",
   "metadata": {},
   "source": [
    "# Channel Create 3 images with r,g,b colors"
   ]
  },
  {
   "cell_type": "markdown",
   "id": "0ae16b76",
   "metadata": {},
   "source": [
    "# Merging Channel's"
   ]
  },
  {
   "cell_type": "code",
   "execution_count": 112,
   "id": "92116a01",
   "metadata": {},
   "outputs": [],
   "source": [
    "merging=cv2.merge((r,g,b))\n",
    "cv2.imshow('merge_image',merging)\n",
    "cv2.waitKey(500)\n",
    "cv2.destroyAllWindows()"
   ]
  },
  {
   "cell_type": "markdown",
   "id": "21173092",
   "metadata": {},
   "source": [
    "# Arithmatic Operations"
   ]
  },
  {
   "cell_type": "markdown",
   "id": "3bb5cc9f",
   "metadata": {},
   "source": [
    "## Addition"
   ]
  },
  {
   "cell_type": "code",
   "execution_count": 69,
   "id": "83a182d0",
   "metadata": {},
   "outputs": [],
   "source": [
    "i1=cv2.imread('image5.jpg')\n",
    "i2=cv2.imread('image6.jpg')\n",
    "i1=np.resize(i1,i2.shape)\n",
    "add_image=cv2.add(i1,i2)\n",
    "cv2.imshow('add_image',add_image)\n",
    "cv2.waitKey(0)\n",
    "cv2.destroyAllWindows()"
   ]
  },
  {
   "cell_type": "markdown",
   "id": "0a8c7b3d",
   "metadata": {},
   "source": [
    "## Subtraction"
   ]
  },
  {
   "cell_type": "code",
   "execution_count": 80,
   "id": "ddda46fb",
   "metadata": {},
   "outputs": [],
   "source": [
    "i1=cv2.imread('image5.jpg')\n",
    "i2=cv2.imread('image6.jpg')\n",
    "i1=np.resize(i1,i2.shape)\n",
    "subtract_image=cv2.subtract(i1,i2)\n",
    "add_image=cv2.add(i1,i2)\n",
    "cv2.imshow('add_image',add_image)\n",
    "cv2.imshow('subtract_image',subtract_image)\n",
    "cv2.waitKey(0)\n",
    "cv2.destroyAllWindows()"
   ]
  },
  {
   "cell_type": "markdown",
   "id": "1ed99207",
   "metadata": {},
   "source": [
    "# Filter"
   ]
  },
  {
   "cell_type": "code",
   "execution_count": 109,
   "id": "b83fa2a1",
   "metadata": {},
   "outputs": [],
   "source": [
    "i3=cv2.imread('image8.jpg')\n",
    "image=cv2.blur(i3,(20,20))\n",
    "cv2.imshow('filter_image',image)\n",
    "cv2.waitKey(0)\n",
    "cv2.destroyAllWindows()"
   ]
  },
  {
   "cell_type": "markdown",
   "id": "ecdb8722",
   "metadata": {},
   "source": [
    "# Logical Operators"
   ]
  },
  {
   "cell_type": "markdown",
   "id": "b5e593e7",
   "metadata": {},
   "source": [
    "# Bitwise_not Operators"
   ]
  },
  {
   "cell_type": "code",
   "execution_count": 108,
   "id": "af47b8c2",
   "metadata": {},
   "outputs": [],
   "source": [
    "i3=cv2.imread('image8.jpg')\n",
    "i4=cv2.bitwise_not(i3)\n",
    "cv2.imshow('filter_image',i4)\n",
    "cv2.waitKey(0)\n",
    "cv2.destroyAllWindows()"
   ]
  },
  {
   "cell_type": "markdown",
   "id": "5da2b376",
   "metadata": {},
   "source": [
    "# Bitwise_and Operators"
   ]
  },
  {
   "cell_type": "code",
   "execution_count": 107,
   "id": "2645de30",
   "metadata": {},
   "outputs": [],
   "source": [
    "i3=cv2.imread('image9.jpg')\n",
    "i4=cv2.imread('image10.jpg')\n",
    "i4=np.resize(i4,i3.shape)\n",
    "image=cv2.bitwise_and(i3,i4,mask = None)\n",
    "cv2.imshow('filter_image',image)\n",
    "cv2.waitKey(0)\n",
    "cv2.destroyAllWindows()"
   ]
  },
  {
   "cell_type": "markdown",
   "id": "35a4fec8",
   "metadata": {},
   "source": [
    "# Bitwise_or Operators"
   ]
  },
  {
   "cell_type": "code",
   "execution_count": 127,
   "id": "bf22ccc2",
   "metadata": {},
   "outputs": [
    {
     "name": "stdout",
     "output_type": "stream",
     "text": [
      "[[[0 0 0]\n",
      "  [0 0 0]\n",
      "  [0 0 0]\n",
      "  ...\n",
      "  [0 0 0]\n",
      "  [0 0 0]\n",
      "  [0 0 0]]\n",
      "\n",
      " [[0 0 0]\n",
      "  [0 0 0]\n",
      "  [0 0 0]\n",
      "  ...\n",
      "  [0 0 0]\n",
      "  [0 0 0]\n",
      "  [0 0 0]]\n",
      "\n",
      " [[0 0 0]\n",
      "  [0 0 0]\n",
      "  [0 0 0]\n",
      "  ...\n",
      "  [0 0 0]\n",
      "  [0 0 0]\n",
      "  [0 0 0]]\n",
      "\n",
      " ...\n",
      "\n",
      " [[0 0 0]\n",
      "  [0 0 0]\n",
      "  [0 0 0]\n",
      "  ...\n",
      "  [0 0 0]\n",
      "  [0 0 0]\n",
      "  [0 0 0]]\n",
      "\n",
      " [[0 0 0]\n",
      "  [0 0 0]\n",
      "  [0 0 0]\n",
      "  ...\n",
      "  [0 0 0]\n",
      "  [0 0 0]\n",
      "  [0 0 0]]\n",
      "\n",
      " [[0 0 0]\n",
      "  [0 0 0]\n",
      "  [0 0 0]\n",
      "  ...\n",
      "  [0 0 0]\n",
      "  [0 0 0]\n",
      "  [0 0 0]]]\n",
      "\n"
     ]
    },
    {
     "data": {
      "text/plain": [
       "array([[[124, 101,  85],\n",
       "        [121,  98,  82],\n",
       "        [121,  98,  82],\n",
       "        ...,\n",
       "        [170, 137, 111],\n",
       "        [187, 152, 126],\n",
       "        [193, 156, 130]],\n",
       "\n",
       "       [[199, 160, 132],\n",
       "        [205, 169, 139],\n",
       "        [213, 182, 149],\n",
       "        ...,\n",
       "        [159, 119,  94],\n",
       "        [152, 112,  87],\n",
       "        [155, 116,  88]],\n",
       "\n",
       "       [[164, 125,  97],\n",
       "        [177, 141, 111],\n",
       "        [203, 164, 136],\n",
       "        ...,\n",
       "        [239, 213, 189],\n",
       "        [226, 198, 174],\n",
       "        [194, 168, 144]],\n",
       "\n",
       "       ...,\n",
       "\n",
       "       [[ 96, 134, 166],\n",
       "        [ 98, 135, 163],\n",
       "        [111, 143, 172],\n",
       "        ...,\n",
       "        [ 24,  35,  49],\n",
       "        [ 29,  40,  54],\n",
       "        [ 30,  43,  57]],\n",
       "\n",
       "       [[ 33,  48,  64],\n",
       "        [ 27,  43,  59],\n",
       "        [ 19,  34,  53],\n",
       "        ...,\n",
       "        [121, 161, 189],\n",
       "        [121, 161, 189],\n",
       "        [122, 162, 190]],\n",
       "\n",
       "       [[121, 161, 189],\n",
       "        [118, 158, 186],\n",
       "        [112, 152, 180],\n",
       "        ...,\n",
       "        [122, 157, 183],\n",
       "        [119, 156, 182],\n",
       "        [117, 154, 180]]], dtype=uint8)"
      ]
     },
     "execution_count": 127,
     "metadata": {},
     "output_type": "execute_result"
    }
   ],
   "source": [
    "i3=cv2.imread('image9.jpg')\n",
    "i4=cv2.imread('image10.jpg')\n",
    "i4=np.resize(i4,i3.shape)\n",
    "image=cv2.bitwise_or(i3,i4,mask = None)\n",
    "cv2.imshow('filter_image',image)\n",
    "cv2.waitKey(0)\n",
    "cv2.destroyAllWindows()\n",
    "\n",
    "array_i3=i3[:,:]\n",
    "print(array_i3)\n",
    "print()\n",
    "\n",
    "array=image[:,:]\n",
    "array"
   ]
  },
  {
   "cell_type": "markdown",
   "id": "4dd64604",
   "metadata": {},
   "source": [
    "# Bitwise_xor Operation"
   ]
  },
  {
   "cell_type": "code",
   "execution_count": 121,
   "id": "0795c266",
   "metadata": {},
   "outputs": [],
   "source": [
    "i3=cv2.imread('image9.jpg')\n",
    "i4=cv2.imread('image10.jpg')\n",
    "i4=np.resize(i4,i3.shape)\n",
    "image=cv2.bitwise_xor(i3,i4,mask = None)\n",
    "cv2.imshow('filter_image',image)\n",
    "cv2.waitKey(0)\n",
    "cv2.destroyAllWindows()"
   ]
  }
 ],
 "metadata": {
  "kernelspec": {
   "display_name": "Python 3 (ipykernel)",
   "language": "python",
   "name": "python3"
  },
  "language_info": {
   "codemirror_mode": {
    "name": "ipython",
    "version": 3
   },
   "file_extension": ".py",
   "mimetype": "text/x-python",
   "name": "python",
   "nbconvert_exporter": "python",
   "pygments_lexer": "ipython3",
   "version": "3.9.13"
  }
 },
 "nbformat": 4,
 "nbformat_minor": 5
}
