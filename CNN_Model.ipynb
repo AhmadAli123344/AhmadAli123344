{
 "cells": [
  {
   "cell_type": "markdown",
   "id": "fa2940fa",
   "metadata": {},
   "source": [
    "# CNN_MODEL"
   ]
  },
  {
   "cell_type": "code",
   "execution_count": 1,
   "id": "81ab277a",
   "metadata": {},
   "outputs": [],
   "source": [
    "from tensorflow.keras.datasets import mnist\n",
    "from tensorflow.keras.models import Sequential\n",
    "from tensorflow.keras.layers import Conv2D\n",
    "from tensorflow.keras.layers import MaxPool2D\n",
    "from tensorflow.keras.layers import Flatten\n",
    "from tensorflow.keras.layers import Dropout\n",
    "from tensorflow.keras.layers import Dense\n",
    "import keras\n",
    "from keras.utils import to_categorical"
   ]
  },
  {
   "cell_type": "code",
   "execution_count": 2,
   "id": "2bb6ffa4",
   "metadata": {},
   "outputs": [],
   "source": [
    "(X_train,y_train) , (X_test,y_test)=mnist.load_data()"
   ]
  },
  {
   "cell_type": "code",
   "execution_count": 3,
   "id": "32b29a66",
   "metadata": {},
   "outputs": [
    {
     "data": {
      "text/plain": [
       "(60000, 28, 28)"
      ]
     },
     "execution_count": 3,
     "metadata": {},
     "output_type": "execute_result"
    }
   ],
   "source": [
    "X_train.shape"
   ]
  },
  {
   "cell_type": "code",
   "execution_count": 4,
   "id": "531407c6",
   "metadata": {},
   "outputs": [
    {
     "data": {
      "text/plain": [
       "(60000,)"
      ]
     },
     "execution_count": 4,
     "metadata": {},
     "output_type": "execute_result"
    }
   ],
   "source": [
    "y_train.shape"
   ]
  },
  {
   "cell_type": "code",
   "execution_count": 5,
   "id": "770cd2a9",
   "metadata": {},
   "outputs": [],
   "source": [
    "X_train1 = X_train.reshape((X_train.shape[0], X_train.shape[1], X_train.shape[2], 1))\n",
    "X_train1=X_train1/255"
   ]
  },
  {
   "cell_type": "code",
   "execution_count": 6,
   "id": "557b5fb5",
   "metadata": {},
   "outputs": [
    {
     "data": {
      "text/plain": [
       "(60000, 28, 28, 1)"
      ]
     },
     "execution_count": 6,
     "metadata": {},
     "output_type": "execute_result"
    }
   ],
   "source": [
    "X_train1.shape"
   ]
  },
  {
   "cell_type": "code",
   "execution_count": 7,
   "id": "1b9f67ee",
   "metadata": {},
   "outputs": [
    {
     "name": "stdout",
     "output_type": "stream",
     "text": [
      "Epoch 1/10\n",
      "12/12 [==============================] - 25s 2s/step - loss: 1.4774 - accuracy: 0.5939 - val_loss: 0.2700 - val_accuracy: 0.9226\n",
      "Epoch 2/10\n",
      "12/12 [==============================] - 20s 2s/step - loss: 0.2125 - accuracy: 0.9395 - val_loss: 0.1354 - val_accuracy: 0.9597\n",
      "Epoch 3/10\n",
      "12/12 [==============================] - 21s 2s/step - loss: 0.1044 - accuracy: 0.9679 - val_loss: 0.0901 - val_accuracy: 0.9746\n",
      "Epoch 4/10\n",
      "12/12 [==============================] - 20s 2s/step - loss: 0.0673 - accuracy: 0.9792 - val_loss: 0.0768 - val_accuracy: 0.9773\n",
      "Epoch 5/10\n",
      "12/12 [==============================] - 20s 2s/step - loss: 0.0484 - accuracy: 0.9854 - val_loss: 0.0701 - val_accuracy: 0.9799\n",
      "Epoch 6/10\n",
      "12/12 [==============================] - 20s 2s/step - loss: 0.0366 - accuracy: 0.9890 - val_loss: 0.0673 - val_accuracy: 0.9812\n",
      "Epoch 7/10\n",
      "12/12 [==============================] - 20s 2s/step - loss: 0.0282 - accuracy: 0.9921 - val_loss: 0.0653 - val_accuracy: 0.9819\n",
      "Epoch 8/10\n",
      "12/12 [==============================] - 20s 2s/step - loss: 0.0218 - accuracy: 0.9936 - val_loss: 0.0628 - val_accuracy: 0.9834\n",
      "Epoch 9/10\n",
      "12/12 [==============================] - 20s 2s/step - loss: 0.0165 - accuracy: 0.9957 - val_loss: 0.0648 - val_accuracy: 0.9836\n",
      "Epoch 10/10\n",
      "12/12 [==============================] - 20s 2s/step - loss: 0.0125 - accuracy: 0.9967 - val_loss: 0.0658 - val_accuracy: 0.9836\n"
     ]
    }
   ],
   "source": [
    "model=Sequential()\n",
    "\n",
    "model.add(Conv2D(32,(3,3),activation='relu',input_shape=(28,28,1)))\n",
    "\n",
    "model.add(MaxPool2D(2,2))\n",
    "\n",
    "model.add(Flatten())\n",
    "model.add(Dense(100,activation='relu'))\n",
    "\n",
    "model.add(Dense(10,activation='softmax'))\n",
    "\n",
    "model.compile(loss='categorical_crossentropy',optimizer=keras.optimizers.Adam(learning_rate=0.03), metrics=['accuracy'])\n",
    "\n",
    "y_train_encoded = to_categorical(y_train)\n",
    "\n",
    "h=model.fit(X_train1,y_train_encoded, batch_size=4000, epochs=10, validation_split=0.2)"
   ]
  },
  {
   "cell_type": "code",
   "execution_count": 9,
   "id": "4c0d1a59",
   "metadata": {},
   "outputs": [
    {
     "data": {
      "text/html": [
       "<div>\n",
       "<style scoped>\n",
       "    .dataframe tbody tr th:only-of-type {\n",
       "        vertical-align: middle;\n",
       "    }\n",
       "\n",
       "    .dataframe tbody tr th {\n",
       "        vertical-align: top;\n",
       "    }\n",
       "\n",
       "    .dataframe thead th {\n",
       "        text-align: right;\n",
       "    }\n",
       "</style>\n",
       "<table border=\"1\" class=\"dataframe\">\n",
       "  <thead>\n",
       "    <tr style=\"text-align: right;\">\n",
       "      <th></th>\n",
       "      <th>loss</th>\n",
       "      <th>accuracy</th>\n",
       "      <th>val_loss</th>\n",
       "      <th>val_accuracy</th>\n",
       "    </tr>\n",
       "  </thead>\n",
       "  <tbody>\n",
       "    <tr>\n",
       "      <th>0</th>\n",
       "      <td>1.477374</td>\n",
       "      <td>0.593896</td>\n",
       "      <td>0.269981</td>\n",
       "      <td>0.922583</td>\n",
       "    </tr>\n",
       "    <tr>\n",
       "      <th>1</th>\n",
       "      <td>0.212471</td>\n",
       "      <td>0.939500</td>\n",
       "      <td>0.135407</td>\n",
       "      <td>0.959667</td>\n",
       "    </tr>\n",
       "    <tr>\n",
       "      <th>2</th>\n",
       "      <td>0.104387</td>\n",
       "      <td>0.967854</td>\n",
       "      <td>0.090146</td>\n",
       "      <td>0.974583</td>\n",
       "    </tr>\n",
       "    <tr>\n",
       "      <th>3</th>\n",
       "      <td>0.067333</td>\n",
       "      <td>0.979187</td>\n",
       "      <td>0.076812</td>\n",
       "      <td>0.977333</td>\n",
       "    </tr>\n",
       "    <tr>\n",
       "      <th>4</th>\n",
       "      <td>0.048447</td>\n",
       "      <td>0.985417</td>\n",
       "      <td>0.070146</td>\n",
       "      <td>0.979917</td>\n",
       "    </tr>\n",
       "    <tr>\n",
       "      <th>5</th>\n",
       "      <td>0.036564</td>\n",
       "      <td>0.988979</td>\n",
       "      <td>0.067295</td>\n",
       "      <td>0.981250</td>\n",
       "    </tr>\n",
       "    <tr>\n",
       "      <th>6</th>\n",
       "      <td>0.028179</td>\n",
       "      <td>0.992146</td>\n",
       "      <td>0.065296</td>\n",
       "      <td>0.981917</td>\n",
       "    </tr>\n",
       "    <tr>\n",
       "      <th>7</th>\n",
       "      <td>0.021789</td>\n",
       "      <td>0.993646</td>\n",
       "      <td>0.062803</td>\n",
       "      <td>0.983417</td>\n",
       "    </tr>\n",
       "    <tr>\n",
       "      <th>8</th>\n",
       "      <td>0.016548</td>\n",
       "      <td>0.995708</td>\n",
       "      <td>0.064830</td>\n",
       "      <td>0.983583</td>\n",
       "    </tr>\n",
       "    <tr>\n",
       "      <th>9</th>\n",
       "      <td>0.012469</td>\n",
       "      <td>0.996750</td>\n",
       "      <td>0.065795</td>\n",
       "      <td>0.983583</td>\n",
       "    </tr>\n",
       "  </tbody>\n",
       "</table>\n",
       "</div>"
      ],
      "text/plain": [
       "       loss  accuracy  val_loss  val_accuracy\n",
       "0  1.477374  0.593896  0.269981      0.922583\n",
       "1  0.212471  0.939500  0.135407      0.959667\n",
       "2  0.104387  0.967854  0.090146      0.974583\n",
       "3  0.067333  0.979187  0.076812      0.977333\n",
       "4  0.048447  0.985417  0.070146      0.979917\n",
       "5  0.036564  0.988979  0.067295      0.981250\n",
       "6  0.028179  0.992146  0.065296      0.981917\n",
       "7  0.021789  0.993646  0.062803      0.983417\n",
       "8  0.016548  0.995708  0.064830      0.983583\n",
       "9  0.012469  0.996750  0.065795      0.983583"
      ]
     },
     "execution_count": 9,
     "metadata": {},
     "output_type": "execute_result"
    }
   ],
   "source": [
    "import pandas as pd\n",
    "hist=pd.DataFrame(h.history)\n",
    "hist"
   ]
  },
  {
   "cell_type": "code",
   "execution_count": 10,
   "id": "dbc6120d",
   "metadata": {},
   "outputs": [
    {
     "data": {
      "image/png": "[encoded data removed]",
      "text/plain": [
       "<Figure size 640x480 with 1 Axes>"
      ]
     },
     "metadata": {},
     "output_type": "display_data"
    }
   ],
   "source": [
    "import matplotlib.pyplot as plt\n",
    "plt.plot(hist.index,hist['accuracy'])\n",
    "plt.xlabel('epochs')\n",
    "plt.ylabel('Accuracy')\n",
    "plt.title('Train_Model Accuracy Graph')\n",
    "plt.show()"
   ]
  },
  {
   "cell_type": "code",
   "execution_count": 16,
   "id": "1d4c3b5b",
   "metadata": {},
   "outputs": [
    {
     "name": "stdout",
     "output_type": "stream",
     "text": [
      "313/313 [==============================] - 3s 8ms/step\n",
      "Accuracy: 0.9812\n",
      "[[ 964    1    3    0    0    2    4    2    4    0]\n",
      " [   0 1124    1    2    0    0    2    1    5    0]\n",
      " [   1    1 1010    1    1    0    0    9    7    2]\n",
      " [   0    0    2 1003    0    1    0    1    3    0]\n",
      " [   0    0    0    0  971    0    3    2    0    6]\n",
      " [   1    0    1   18    0  863    3    0    6    0]\n",
      " [   5    2    0    0    1    2  943    0    5    0]\n",
      " [   1    0    5    1    1    0    0 1015    2    3]\n",
      " [   1    0    9    5    4    3    0    8  942    2]\n",
      " [   2    3    0    1    9    4    0   11    2  977]]\n"
     ]
    }
   ],
   "source": [
    "from sklearn.metrics import accuracy_score,confusion_matrix\n",
    "X_test = X_test.reshape((X_test.shape[0],X_test.shape[1],X_test.shape[2],1))\n",
    "X_test/255\n",
    "\n",
    "import numpy as np\n",
    "y_pred=model.predict(X_test)\n",
    "\n",
    "y_pred_1 = np.argmax(y_pred, axis=1)\n",
    "\n",
    "# Calculate the accuracy of the model\n",
    "accuracy = accuracy_score(y_test, y_pred_1)\n",
    "\n",
    "print(\"Accuracy:\", accuracy)\n",
    "cf=confusion_matrix(y_test, y_pred_1)\n",
    "print(cf)"
   ]
  },
  {
   "cell_type": "code",
   "execution_count": 11,
   "id": "82740b26",
   "metadata": {},
   "outputs": [
    {
     "data": {
      "image/png": "[encoded data removed]",
      "text/plain": [
       "<IPython.core.display.Image object>"
      ]
     },
     "execution_count": 11,
     "metadata": {},
     "output_type": "execute_result"
    }
   ],
   "source": [
    "from tensorflow.keras.utils import plot_model\n",
    "plot_model(model,show_shapes=True, show_layer_names=True,rankdir='TB')"
   ]
  },
  {
   "cell_type": "markdown",
   "id": "519ef846",
   "metadata": {},
   "source": [
    "It looks like you have created a simple Convolutional Neural Network (CNN) model for image classification using Keras. Let's break down the code step by step:\n",
    "\n",
    "## model=Sequential():\n",
    "This creates a sequential model, which allows you to build the neural network layer by layer.\n",
    "\n",
    "## model.add(Conv2D(32,(3,3),activation='relu',input_shape=(28,28,1))): \n",
    "This adds a 2D convolutional layer with 32 filters, each of size 3x3. The activation function used is ReLU (Rectified Linear Unit). The input shape is (28, 28, 1), which represents a grayscale image of size 28x28 pixels.\n",
    "\n",
    "## model.add(MaxPool2D(2,2)): \n",
    "This adds a max-pooling layer with a pool size of 2x2, which reduces the spatial dimensions of the data.\n",
    "\n",
    "## model.add(Flatten()): \n",
    "This flattens the output of the previous layer into a 1D vector, as required for the Dense (fully connected) layers.\n",
    "\n",
    "## model.add(Dense(100,activation='relu')):\n",
    "This adds a fully connected Dense layer with 100 units and ReLU activation.\n",
    "\n",
    "## model.add(Dense(10,activation='softmax')):\n",
    "This adds the output layer with 10 units (equal to the number of classes in the dataset) and uses the softmax activation function. Softmax converts the raw scores into probability values, representing the probability of each class.\n",
    "\n",
    "## model.compile(loss='categorical_crossentropy',\n",
    "## optimizer=keras.optimizers.Adam(learning_rate=0.03), metrics=['accuracy']):\n",
    "This compiles the model with the specified loss function (categorical cross-entropy), optimizer (Adam with a learning rate of 0.03), and evaluation metric (accuracy).\n",
    "\n",
    "y_train_encoded = to_categorical(y_train):\n",
    "It appears that you have one-hot encoded the target labels y_train using the to_categorical function. This is necessary when using categorical cross-entropy as the loss function.\n",
    "\n",
    "## h=model.fit(X_train1,y_train_encoded,\n",
    "## batch_size=4000, epochs=10, validation_split=0.2):\n",
    "This fits the model to the training data X_train1 with the corresponding one-hot encoded labels y_train_encoded. The training is performed for 10 epochs with a batch size of 4000. The validation_split parameter specifies that 20% of the training data will be used for validation during training.\n",
    "\n",
    "Overall, this code sets up a CNN model for image classification, compiles it with the specified loss and optimizer, and then trains the model on the provided data."
   ]
  },
  {
   "cell_type": "markdown",
   "id": "dcf1d22b",
   "metadata": {},
   "source": [
    "## please explain how CNN input shape are set and what dimensions CNN model accept for input?\n",
    "\n",
    "In a Convolutional Neural Network (CNN), the input shape is determined by the dimensions of the input data. CNNs are primarily used for image and video data, although they can also be applied to other types of data with spatial structure, such as audio spectrograms.\n",
    "\n",
    "The input shape of a CNN is represented as a 4-dimensional tensor (or ndarray) with the following dimensions:\n",
    "\n",
    "Batch Size: The number of samples (data points) in each batch. It is a hyperparameter that you can set when training the model. For example, if you set the batch size to 32, the input tensor will have a shape of (32, height, width, channels).\n",
    "\n",
    "Height: The height of the input image (or spatial dimension). It represents the number of rows in the image.\n",
    "\n",
    "Width: The width of the input image (or spatial dimension). It represents the number of columns in the image.\n",
    "\n",
    "Channels: The number of channels in the image. For grayscale images, the number of channels is 1 (representing black and white). For RGB (color) images, the number of channels is 3 (representing red, green, and blue).\n",
    "\n",
    "For example, if you have a batch of 100 RGB color images, each with a resolution of 64x64 pixels, the input shape would be (100, 64, 64, 3).\n",
    "\n",
    "When defining a CNN in frameworks like Keras or PyTorch, the input shape is usually specified only for the first layer of the model, and subsequent layers automatically infer their input shapes based on the output shapes of the previous layers.\n",
    "\n",
    "It's important to ensure that the input shape provided to the CNN model matches the actual shape of the data you are feeding into it. If the input shape is incorrect, you may encounter errors during model training or inference.\n",
    "\n",
    "It's also common practice to preprocess the input data, such as resizing images to a fixed resolution or normalizing pixel values to a specific range, before feeding them into the CNN. Preprocessing helps in achieving better model performance and reduces the computational load during training."
   ]
  },
  {
   "cell_type": "markdown",
   "id": "86044298",
   "metadata": {},
   "source": [
    "# Woking of CNN:-\n",
    "\n",
    "The Convolutional Neural Network (CNN) is a type of deep learning model that is widely used for image recognition and computer vision tasks. CNNs are designed to automatically and adaptively learn spatial hierarchies of features from input data, making them well-suited for tasks involving images and other grid-like data (e.g., time series).\n",
    "\n",
    "Here's a high-level overview of how CNNs work:\n",
    "\n",
    "## Convolutional Layer:\n",
    "The key building block of CNNs is the convolutional layer. It consists of a set of learnable filters (also called kernels or feature detectors) that slide over the input data (e.g., an image) to extract local patterns and features. Each filter represents a specific pattern or feature it is trying to detect.\n",
    "\n",
    "During the convolution operation, the filter is convolved with the input data by taking element-wise products and summing them up. The result is a feature map that highlights the presence of the detected pattern in different locations of the input.\n",
    "\n",
    "## Activation Function:\n",
    "After the convolution operation, an activation function (typically ReLU - Rectified Linear Unit) is applied to introduce non-linearity to the network. This allows the CNN to learn complex patterns and relationships in the data.\n",
    "\n",
    "## Pooling Layer:\n",
    "Pooling layers are used to reduce the spatial dimensions of the feature maps while retaining the most important information. Max pooling is a commonly used technique, where the maximum value in a small region (e.g., 2x2) of the feature map is retained, and the rest are discarded. This helps reduce the computational complexity and control overfitting.\n",
    "\n",
    "## Flattening:\n",
    "After several convolution and pooling layers, the output is often flattened into a 1D vector. This flattening step converts the spatial information into a format suitable for the fully connected layers.\n",
    "\n",
    "## Fully Connected Layers:\n",
    "The flattened output is connected to one or more fully connected layers, which are similar to traditional neural networks. These layers learn high-level patterns and relationships from the features extracted by the earlier layers.\n",
    "\n",
    "## Output Layer:\n",
    "The final layer of the CNN is the output layer, which represents the predictions of the model. The number of nodes in this layer corresponds to the number of classes in the classification task. For example, in a digit recognition task, there would be 10 output nodes (0 to 9) if there are 10 possible digits.\n",
    "\n",
    "## Loss Function and Optimization:\n",
    "The choice of loss function depends on the task. For multi-class classification tasks like image recognition, cross-entropy loss is commonly used. The model is trained to minimize this loss using optimization algorithms such as Stochastic Gradient Descent (SGD) or Adam.\n",
    "\n",
    "## Training:\n",
    "During the training process, the model iteratively adjusts its learnable parameters (weights and biases) to minimize the loss on the training data. This process is known as backpropagation, where gradients are computed and used to update the parameters.\n",
    "\n",
    "By leveraging the hierarchical learning approach of CNNs, the model can automatically learn meaningful and hierarchical representations of the input data, leading to powerful and efficient image recognition systems."
   ]
  },
  {
   "cell_type": "markdown",
   "id": "c186094c",
   "metadata": {},
   "source": [
    "# Concept of shape in CNN and Sequential:-"
   ]
  },
  {
   "cell_type": "markdown",
   "id": "afc06be4",
   "metadata": {},
   "source": [
    "Yes, that's correct. If you want to give input as (28, 28) to your neural network, you do not need to flatten your image.\n",
    "\n",
    "The shape (28, 28) implies that you are treating each image as a 2D grid with 28 rows and 28 columns, which is typical for image data. Each pixel in the image will be considered as a separate input element.\n",
    "\n",
    "When working with 2D images and using a Convolutional Neural Network (CNN) or similar models, you should maintain the original shape of the images, and there is no need to flatten them.\n",
    "\n",
    "Here's an example of how to create a simple CNN in Keras to work with 2D images of size (28, 28):\n",
    "\n",
    "python\n",
    "Copy code\n",
    "from keras.models import Sequential\n",
    "from keras.layers import Conv2D, MaxPooling2D, Flatten, Dense\n",
    "\n",
    "model = Sequential()\n",
    "model.add(Conv2D(32, (3, 3), activation='relu', input_shape=(28, 28, 1)))\n",
    "model.add(MaxPooling2D((2, 2)))\n",
    "model.add(Flatten())\n",
    "model.add(Dense(100, activation='relu'))\n",
    "model.add(Dense(10, activation='softmax'))\n",
    "\n",
    "# Rest of the code for compiling and training the model\n",
    "In this example, we define a CNN that takes input images of size (28, 28, 1), where the last dimension 1 represents a single channel, indicating grayscale images. If your images are RGB (color images), you would use (28, 28, 3) as the input shape.\n",
    "\n",
    "Remember, when using 2D images, there is no need to flatten them. The CNN will automatically handle the spatial relationships between pixels and learn hierarchical features directly from the 2D data."
   ]
  },
  {
   "cell_type": "markdown",
   "id": "6c2ec3f0",
   "metadata": {},
   "source": [
    "No, (28, 28) and (28*28,) are not the same in the context of input shapes for a neural network.\n",
    "\n",
    "(28, 28): This represents a 2D input shape, where the first dimension is the number of rows (height) and the second dimension is the number of columns (width). It is used for 2D data, such as images or 2D grids.\n",
    "\n",
    "(28*28,): This represents a 1D input shape with 784 elements. It is a flattened representation of a 28x28 image. It means that the 2D image has been converted into a 1D vector by concatenating its rows or columns.\n",
    "\n",
    "In a neural network, the input shape should match the format of the data you are feeding into it. If you have 2D data, such as images with dimensions (28, 28), you should use (28, 28) as the input shape. For example:\n",
    "\n",
    "## Code:-\n",
    "from keras.models import Sequential\n",
    "from keras.layers import Dense\n",
    "\n",
    "model = Sequential()\n",
    "model.add(Dense(64, activation='relu', input_shape=(28, 28)))\n",
    "model.add(Dense(32, activation='relu'))\n",
    "model.add(Dense(10, activation='softmax'))\n",
    "\n",
    "In this case, the model expects 2D input data with 28 rows and 28 columns.\n",
    "\n",
    "On the other hand, if you have already flattened the 28x28 images into a 1D vector of length 784, you should use (28*28,) as the input shape. For example:\n",
    "## Code:-\n",
    "from keras.models import Sequential\n",
    "from keras.layers import Dense\n",
    "\n",
    "model = Sequential()\n",
    "model.add(Dense(64, activation='relu', input_shape=(28*28,)))\n",
    "model.add(Dense(32, activation='relu'))\n",
    "model.add(Dense(10, activation='softmax'))\n",
    "\n",
    "In this case, the model expects 1D input data with 784 elements.\n",
    "\n",
    "So, the choice of input shape depends on how your data is represented. If you have 2D data, use (28, 28), and if you have flattened it into a 1D vector, use (28*28,)."
   ]
  },
  {
   "cell_type": "code",
   "execution_count": null,
   "id": "e3b29ca4",
   "metadata": {},
   "outputs": [],
   "source": []
  }
 ],
 "metadata": {
  "kernelspec": {
   "display_name": "Python 3 (ipykernel)",
   "language": "python",
   "name": "python3"
  },
  "language_info": {
   "codemirror_mode": {
    "name": "ipython",
    "version": 3
   },
   "file_extension": ".py",
   "mimetype": "text/x-python",
   "name": "python",
   "nbconvert_exporter": "python",
   "pygments_lexer": "ipython3",
   "version": "3.9.13"
  }
 },
 "nbformat": 4,
 "nbformat_minor": 5
}
