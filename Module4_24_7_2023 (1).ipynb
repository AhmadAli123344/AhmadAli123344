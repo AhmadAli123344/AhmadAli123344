{
 "cells": [
  {
   "cell_type": "markdown",
   "id": "0c47340b",
   "metadata": {},
   "source": [
    "# Module 4 C1-04 24-7-2023\n",
    "# Ahmad Ali"
   ]
  },
  {
   "cell_type": "code",
   "execution_count": 5,
   "id": "6437871e",
   "metadata": {},
   "outputs": [
    {
     "name": "stdout",
     "output_type": "stream",
     "text": [
      "Accuracy: 1.0\n"
     ]
    }
   ],
   "source": [
    "from sklearn.neural_network import MLPClassifier\n",
    "from sklearn.model_selection import train_test_split\n",
    "from sklearn.metrics import accuracy_score\n",
    "import pandas as pd\n",
    "df=pd.read_csv('Image_data.csv')\n",
    "\n",
    "X=df.drop('label',axis=1)\n",
    "X=X/255\n",
    "y=df['label']\n",
    "\n",
    "X_train, X_test, y_train, y_test = train_test_split(X, y, test_size=0.2, random_state=42)\n",
    "\n",
    "# Create and train the MLPClassifier\n",
    "\n",
    "mlp = MLPClassifier(hidden_layer_sizes=(10, 5), max_iter=1000, random_state=42)\n",
    "mlp.fit(X_train,y_train)\n",
    "\n",
    "# Make predictions on the test set\n",
    "y_pred = mlp.predict(X_test)\n",
    "\n",
    "# Calculate accuracy\n",
    "accuracy = accuracy_score(y_test, y_pred)\n",
    "print(\"Accuracy:\", accuracy)"
   ]
  },
  {
   "cell_type": "code",
   "execution_count": 7,
   "id": "96c122db",
   "metadata": {},
   "outputs": [
    {
     "data": {
      "text/html": [
       "<div>\n",
       "<style scoped>\n",
       "    .dataframe tbody tr th:only-of-type {\n",
       "        vertical-align: middle;\n",
       "    }\n",
       "\n",
       "    .dataframe tbody tr th {\n",
       "        vertical-align: top;\n",
       "    }\n",
       "\n",
       "    .dataframe thead th {\n",
       "        text-align: right;\n",
       "    }\n",
       "</style>\n",
       "<table border=\"1\" class=\"dataframe\">\n",
       "  <thead>\n",
       "    <tr style=\"text-align: right;\">\n",
       "      <th></th>\n",
       "      <th>y_test</th>\n",
       "      <th>y_pred</th>\n",
       "    </tr>\n",
       "  </thead>\n",
       "  <tbody>\n",
       "    <tr>\n",
       "      <th>199</th>\n",
       "      <td>apple_6</td>\n",
       "      <td>apple_6</td>\n",
       "    </tr>\n",
       "    <tr>\n",
       "      <th>420</th>\n",
       "      <td>apple_braeburn_1</td>\n",
       "      <td>apple_braeburn_1</td>\n",
       "    </tr>\n",
       "    <tr>\n",
       "      <th>694</th>\n",
       "      <td>apple_crimson_snow_1</td>\n",
       "      <td>apple_crimson_snow_1</td>\n",
       "    </tr>\n",
       "    <tr>\n",
       "      <th>750</th>\n",
       "      <td>apple_crimson_snow_1</td>\n",
       "      <td>apple_crimson_snow_1</td>\n",
       "    </tr>\n",
       "    <tr>\n",
       "      <th>507</th>\n",
       "      <td>apple_braeburn_1</td>\n",
       "      <td>apple_braeburn_1</td>\n",
       "    </tr>\n",
       "    <tr>\n",
       "      <th>...</th>\n",
       "      <td>...</td>\n",
       "      <td>...</td>\n",
       "    </tr>\n",
       "    <tr>\n",
       "      <th>33</th>\n",
       "      <td>apple_6</td>\n",
       "      <td>apple_6</td>\n",
       "    </tr>\n",
       "    <tr>\n",
       "      <th>31</th>\n",
       "      <td>apple_6</td>\n",
       "      <td>apple_6</td>\n",
       "    </tr>\n",
       "    <tr>\n",
       "      <th>711</th>\n",
       "      <td>apple_crimson_snow_1</td>\n",
       "      <td>apple_crimson_snow_1</td>\n",
       "    </tr>\n",
       "    <tr>\n",
       "      <th>299</th>\n",
       "      <td>apple_6</td>\n",
       "      <td>apple_6</td>\n",
       "    </tr>\n",
       "    <tr>\n",
       "      <th>616</th>\n",
       "      <td>apple_braeburn_1</td>\n",
       "      <td>apple_braeburn_1</td>\n",
       "    </tr>\n",
       "  </tbody>\n",
       "</table>\n",
       "<p>191 rows × 2 columns</p>\n",
       "</div>"
      ],
      "text/plain": [
       "                   y_test                y_pred\n",
       "199               apple_6               apple_6\n",
       "420      apple_braeburn_1      apple_braeburn_1\n",
       "694  apple_crimson_snow_1  apple_crimson_snow_1\n",
       "750  apple_crimson_snow_1  apple_crimson_snow_1\n",
       "507      apple_braeburn_1      apple_braeburn_1\n",
       "..                    ...                   ...\n",
       "33                apple_6               apple_6\n",
       "31                apple_6               apple_6\n",
       "711  apple_crimson_snow_1  apple_crimson_snow_1\n",
       "299               apple_6               apple_6\n",
       "616      apple_braeburn_1      apple_braeburn_1\n",
       "\n",
       "[191 rows x 2 columns]"
      ]
     },
     "execution_count": 7,
     "metadata": {},
     "output_type": "execute_result"
    }
   ],
   "source": [
    "a=pd.DataFrame({\n",
    "    'y_test':y_test,\n",
    "    'y_pred':y_pred\n",
    "})\n",
    "a"
   ]
  },
  {
   "cell_type": "markdown",
   "id": "a7ce6583",
   "metadata": {},
   "source": [
    "# Explain\n",
    "## I use MLPClassifier which is Multi Layer classifeir. It is a type of ANN but the main point is Data flow in forward direction only like from input nodes to output nodes only. i use hidden_layes=(10,5) and max_iter =1000. The sequence of operation is \n",
    "\n",
    "#                   Input-Layer's----> Hidden-Layer's------>Output-Layer"
   ]
  },
  {
   "cell_type": "code",
   "execution_count": null,
   "id": "f1e3479a",
   "metadata": {},
   "outputs": [],
   "source": [
    "# MLPClassifier with hyperparameters\n",
    "mlp = MLPClassifier(\n",
    "    hidden_layer_sizes=(100, 50),  # Two hidden layers with 100 and 50 neurons, respectively\n",
    "    activation='relu',             # Rectified Linear Unit (ReLU) activation function\n",
    "    solver='adam',                 # Adam optimizer\n",
    "    alpha=0.0001,                  # L2 regularization parameter\n",
    "    batch_size='auto',             # Size of mini-batches for SGD\n",
    "    learning_rate='constant',      # Fixed learning rate throughout training\n",
    "    learning_rate_init=0.001,      # Initial learning rate\n",
    "    power_t=0.5,                   # Exponent for inverse scaling learning rate\n",
    "    max_iter=200,                  # Maximum number of epochs for training\n",
    "    shuffle=True,                  # Whether to shuffle samples during training\n",
    "    random_state=42,               # Random seed for reproducibility\n",
    "    tol=1e-4,                      # Tolerance for optimization convergence\n",
    "    verbose=False,                 # Whether to print progress messages\n",
    "    warm_start=False,              # Whether to use the existing model for fitting\n",
    "    n_iter_no_change=10,           # Maximum number of epochs without improvement\n",
    "    nesterovs_momentum=True,       # Use Nesterov's momentum (only for solver='sgd')\n",
    "    early_stopping=False,          # Enable early stopping to prevent overfitting\n",
    "    validation_fraction=0.1,       # Fraction of training data to set aside as validation set\n",
    "    beta_1=0.9,                    # Exponential decay rate for the first moment estimates (only for solver='adam')\n",
    "    beta_2=0.999,                  # Exponential decay rate for the second-moment estimates (only for solver='adam')\n",
    "    epsilon=1e-8                   # Value for numerical stability (only for solver='adam')\n",
    ")"
   ]
  }
 ],
 "metadata": {
  "kernelspec": {
   "display_name": "Python 3 (ipykernel)",
   "language": "python",
   "name": "python3"
  },
  "language_info": {
   "codemirror_mode": {
    "name": "ipython",
    "version": 3
   },
   "file_extension": ".py",
   "mimetype": "text/x-python",
   "name": "python",
   "nbconvert_exporter": "python",
   "pygments_lexer": "ipython3",
   "version": "3.9.13"
  }
 },
 "nbformat": 4,
 "nbformat_minor": 5
}
