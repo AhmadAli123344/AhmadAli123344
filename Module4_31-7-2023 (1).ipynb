{
 "cells": [
  {
   "cell_type": "markdown",
   "id": "72ef288f",
   "metadata": {},
   "source": [
    "# Assignment Module 4\n",
    "# Ahmad Ali C1-04"
   ]
  },
  {
   "cell_type": "markdown",
   "id": "24e9d2f1",
   "metadata": {},
   "source": [
    "## Load Dataset MNIST:-"
   ]
  },
  {
   "cell_type": "code",
   "execution_count": 1,
   "id": "8215783e",
   "metadata": {},
   "outputs": [],
   "source": [
    "import pandas as pd\n",
    "df=pd.read_csv('mnist_train.csv')\n",
    "X=df.drop('label',axis=1)\n",
    "y=df['label']"
   ]
  },
  {
   "cell_type": "markdown",
   "id": "ead91f84",
   "metadata": {},
   "source": [
    "## Getting shape and Normalize:-"
   ]
  },
  {
   "cell_type": "code",
   "execution_count": 11,
   "id": "cb57d5a9",
   "metadata": {},
   "outputs": [
    {
     "data": {
      "text/plain": [
       "(60000, 784)"
      ]
     },
     "execution_count": 11,
     "metadata": {},
     "output_type": "execute_result"
    }
   ],
   "source": [
    "X.shape"
   ]
  },
  {
   "cell_type": "code",
   "execution_count": 2,
   "id": "3e118204",
   "metadata": {},
   "outputs": [],
   "source": [
    "X=X/255"
   ]
  },
  {
   "cell_type": "markdown",
   "id": "235b3b9c",
   "metadata": {},
   "source": [
    "## Plot row=1"
   ]
  },
  {
   "cell_type": "code",
   "execution_count": 43,
   "id": "0dd9a84f",
   "metadata": {},
   "outputs": [
    {
     "data": {
      "image/png": "[encoded data removed]",
      "text/plain": [
       "<Figure size 640x480 with 1 Axes>"
      ]
     },
     "metadata": {},
     "output_type": "display_data"
    }
   ],
   "source": [
    "import numpy as np\n",
    "a=np.array(X.iloc[1]).reshape(28,28)\n",
    "plt.imshow(a)\n",
    "plt.show()"
   ]
  },
  {
   "cell_type": "markdown",
   "id": "3ff9bc72",
   "metadata": {},
   "source": [
    "# Model Training:-"
   ]
  },
  {
   "cell_type": "code",
   "execution_count": 3,
   "id": "81fb1c7e",
   "metadata": {
    "scrolled": false
   },
   "outputs": [
    {
     "name": "stdout",
     "output_type": "stream",
     "text": [
      "[[0. 0. 0. ... 0. 0. 0.]\n",
      " [1. 0. 0. ... 0. 0. 0.]\n",
      " [0. 0. 0. ... 0. 0. 0.]\n",
      " ...\n",
      " [0. 0. 0. ... 0. 0. 0.]\n",
      " [0. 0. 0. ... 0. 0. 0.]\n",
      " [0. 0. 0. ... 0. 1. 0.]]\n",
      "Epoch 1/40\n",
      "12/12 [==============================] - 3s 153ms/step - loss: 1.5891 - accuracy: 0.4344 - val_loss: 0.6251 - val_accuracy: 0.7996\n",
      "Epoch 2/40\n",
      "12/12 [==============================] - 1s 76ms/step - loss: 0.7855 - accuracy: 0.7328 - val_loss: 0.4384 - val_accuracy: 0.8691\n",
      "Epoch 3/40\n",
      "12/12 [==============================] - 1s 55ms/step - loss: 0.6071 - accuracy: 0.8012 - val_loss: 0.3403 - val_accuracy: 0.8989\n",
      "Epoch 4/40\n",
      "12/12 [==============================] - 1s 54ms/step - loss: 0.5318 - accuracy: 0.8243 - val_loss: 0.3034 - val_accuracy: 0.9105\n",
      "Epoch 5/40\n",
      "12/12 [==============================] - 1s 54ms/step - loss: 0.4875 - accuracy: 0.8393 - val_loss: 0.2858 - val_accuracy: 0.9146\n",
      "Epoch 6/40\n",
      "12/12 [==============================] - 1s 56ms/step - loss: 0.4639 - accuracy: 0.8491 - val_loss: 0.2690 - val_accuracy: 0.9206\n",
      "Epoch 7/40\n",
      "12/12 [==============================] - 1s 53ms/step - loss: 0.4394 - accuracy: 0.8561 - val_loss: 0.2574 - val_accuracy: 0.9218\n",
      "Epoch 8/40\n",
      "12/12 [==============================] - 1s 53ms/step - loss: 0.4252 - accuracy: 0.8628 - val_loss: 0.2488 - val_accuracy: 0.9262\n",
      "Epoch 9/40\n",
      "12/12 [==============================] - 1s 54ms/step - loss: 0.4138 - accuracy: 0.8661 - val_loss: 0.2453 - val_accuracy: 0.9293\n",
      "Epoch 10/40\n",
      "12/12 [==============================] - 1s 54ms/step - loss: 0.4065 - accuracy: 0.8687 - val_loss: 0.2411 - val_accuracy: 0.9277\n",
      "Epoch 11/40\n",
      "12/12 [==============================] - 1s 54ms/step - loss: 0.3996 - accuracy: 0.8702 - val_loss: 0.2359 - val_accuracy: 0.9327\n",
      "Epoch 12/40\n",
      "12/12 [==============================] - 1s 54ms/step - loss: 0.3893 - accuracy: 0.8743 - val_loss: 0.2302 - val_accuracy: 0.9331\n",
      "Epoch 13/40\n",
      "12/12 [==============================] - 1s 54ms/step - loss: 0.3758 - accuracy: 0.8792 - val_loss: 0.2260 - val_accuracy: 0.9352\n",
      "Epoch 14/40\n",
      "12/12 [==============================] - 1s 54ms/step - loss: 0.3691 - accuracy: 0.8806 - val_loss: 0.2222 - val_accuracy: 0.9372\n",
      "Epoch 15/40\n",
      "12/12 [==============================] - 1s 55ms/step - loss: 0.3655 - accuracy: 0.8810 - val_loss: 0.2191 - val_accuracy: 0.9368\n",
      "Epoch 16/40\n",
      "12/12 [==============================] - 1s 54ms/step - loss: 0.3550 - accuracy: 0.8844 - val_loss: 0.2121 - val_accuracy: 0.9399\n",
      "Epoch 17/40\n",
      "12/12 [==============================] - 1s 54ms/step - loss: 0.3525 - accuracy: 0.8864 - val_loss: 0.2133 - val_accuracy: 0.9384\n",
      "Epoch 18/40\n",
      "12/12 [==============================] - 1s 54ms/step - loss: 0.3447 - accuracy: 0.8891 - val_loss: 0.2138 - val_accuracy: 0.9372\n",
      "Epoch 19/40\n",
      "12/12 [==============================] - 1s 54ms/step - loss: 0.3398 - accuracy: 0.8905 - val_loss: 0.2157 - val_accuracy: 0.9379\n",
      "Epoch 20/40\n",
      "12/12 [==============================] - 1s 53ms/step - loss: 0.3343 - accuracy: 0.8919 - val_loss: 0.2126 - val_accuracy: 0.9377\n",
      "Epoch 21/40\n",
      "12/12 [==============================] - 1s 54ms/step - loss: 0.3331 - accuracy: 0.8907 - val_loss: 0.2097 - val_accuracy: 0.9408\n",
      "Epoch 22/40\n",
      "12/12 [==============================] - 1s 61ms/step - loss: 0.3309 - accuracy: 0.8931 - val_loss: 0.2117 - val_accuracy: 0.9372\n",
      "Epoch 23/40\n",
      "12/12 [==============================] - 1s 72ms/step - loss: 0.3270 - accuracy: 0.8945 - val_loss: 0.2114 - val_accuracy: 0.9398\n",
      "Epoch 24/40\n",
      "12/12 [==============================] - 1s 65ms/step - loss: 0.3226 - accuracy: 0.8962 - val_loss: 0.2094 - val_accuracy: 0.9399\n",
      "Epoch 25/40\n",
      "12/12 [==============================] - 1s 71ms/step - loss: 0.3126 - accuracy: 0.8973 - val_loss: 0.2091 - val_accuracy: 0.9409\n",
      "Epoch 26/40\n",
      "12/12 [==============================] - 1s 56ms/step - loss: 0.3165 - accuracy: 0.8969 - val_loss: 0.2079 - val_accuracy: 0.9396\n",
      "Epoch 27/40\n",
      "12/12 [==============================] - 1s 53ms/step - loss: 0.3118 - accuracy: 0.8994 - val_loss: 0.2041 - val_accuracy: 0.9408\n",
      "Epoch 28/40\n",
      "12/12 [==============================] - 1s 55ms/step - loss: 0.3119 - accuracy: 0.8989 - val_loss: 0.2066 - val_accuracy: 0.9415\n",
      "Epoch 29/40\n",
      "12/12 [==============================] - 1s 54ms/step - loss: 0.3075 - accuracy: 0.9005 - val_loss: 0.2080 - val_accuracy: 0.9403\n",
      "Epoch 30/40\n",
      "12/12 [==============================] - 1s 53ms/step - loss: 0.3094 - accuracy: 0.8987 - val_loss: 0.2090 - val_accuracy: 0.9412\n",
      "Epoch 31/40\n",
      "12/12 [==============================] - 1s 67ms/step - loss: 0.3062 - accuracy: 0.9010 - val_loss: 0.2047 - val_accuracy: 0.9405\n",
      "Epoch 32/40\n",
      "12/12 [==============================] - 1s 54ms/step - loss: 0.3037 - accuracy: 0.9008 - val_loss: 0.2039 - val_accuracy: 0.9413\n",
      "Epoch 33/40\n",
      "12/12 [==============================] - 1s 58ms/step - loss: 0.2978 - accuracy: 0.9035 - val_loss: 0.2054 - val_accuracy: 0.9438\n",
      "Epoch 34/40\n",
      "12/12 [==============================] - 1s 65ms/step - loss: 0.2945 - accuracy: 0.9040 - val_loss: 0.2052 - val_accuracy: 0.9413\n",
      "Epoch 35/40\n",
      "12/12 [==============================] - 1s 54ms/step - loss: 0.2948 - accuracy: 0.9054 - val_loss: 0.2095 - val_accuracy: 0.9412\n",
      "Epoch 36/40\n",
      "12/12 [==============================] - 1s 70ms/step - loss: 0.2927 - accuracy: 0.9066 - val_loss: 0.2071 - val_accuracy: 0.9423\n",
      "Epoch 37/40\n",
      "12/12 [==============================] - 1s 52ms/step - loss: 0.2923 - accuracy: 0.9051 - val_loss: 0.2064 - val_accuracy: 0.9437\n",
      "Epoch 38/40\n",
      "12/12 [==============================] - 1s 53ms/step - loss: 0.2906 - accuracy: 0.9077 - val_loss: 0.2098 - val_accuracy: 0.9408\n",
      "Epoch 39/40\n",
      "12/12 [==============================] - 1s 53ms/step - loss: 0.2913 - accuracy: 0.9055 - val_loss: 0.2057 - val_accuracy: 0.9423\n",
      "Epoch 40/40\n",
      "12/12 [==============================] - 1s 50ms/step - loss: 0.2898 - accuracy: 0.9069 - val_loss: 0.2119 - val_accuracy: 0.9409\n"
     ]
    }
   ],
   "source": [
    "import keras\n",
    "from keras.models import Sequential\n",
    "from keras.utils import to_categorical\n",
    "from keras.layers import Dense,Dropout\n",
    "from sklearn.metrics import accuracy_score,confusion_matrix\n",
    "\n",
    "model=Sequential()\n",
    "\n",
    "model.add(Dense(30,name='Input_Layer',activation='relu',input_shape=(28*28,)))\n",
    "\n",
    "model.add(Dropout(name='Dropout_Layer',rate=0.2))\n",
    "\n",
    "model.add(Dense(10,name='Output_Layer', activation='softmax'))\n",
    "\n",
    "model.compile(loss='categorical_crossentropy',optimizer=keras.optimizers.Adam(learning_rate=0.03), metrics=['accuracy'])\n",
    "\n",
    "y_train_encoded = to_categorical(y)\n",
    "print(y_train_encoded)\n",
    "\n",
    "h=model.fit(X,y_train_encoded, batch_size=4000, epochs=40, validation_split=0.2)"
   ]
  },
  {
   "cell_type": "code",
   "execution_count": 4,
   "id": "8d4339a1",
   "metadata": {},
   "outputs": [
    {
     "data": {
      "text/html": [
       "<div>\n",
       "<style scoped>\n",
       "    .dataframe tbody tr th:only-of-type {\n",
       "        vertical-align: middle;\n",
       "    }\n",
       "\n",
       "    .dataframe tbody tr th {\n",
       "        vertical-align: top;\n",
       "    }\n",
       "\n",
       "    .dataframe thead th {\n",
       "        text-align: right;\n",
       "    }\n",
       "</style>\n",
       "<table border=\"1\" class=\"dataframe\">\n",
       "  <thead>\n",
       "    <tr style=\"text-align: right;\">\n",
       "      <th></th>\n",
       "      <th>loss</th>\n",
       "      <th>accuracy</th>\n",
       "      <th>val_loss</th>\n",
       "      <th>val_accuracy</th>\n",
       "    </tr>\n",
       "  </thead>\n",
       "  <tbody>\n",
       "    <tr>\n",
       "      <th>0</th>\n",
       "      <td>1.589058</td>\n",
       "      <td>0.434417</td>\n",
       "      <td>0.625105</td>\n",
       "      <td>0.799583</td>\n",
       "    </tr>\n",
       "    <tr>\n",
       "      <th>1</th>\n",
       "      <td>0.785504</td>\n",
       "      <td>0.732771</td>\n",
       "      <td>0.438433</td>\n",
       "      <td>0.869083</td>\n",
       "    </tr>\n",
       "    <tr>\n",
       "      <th>2</th>\n",
       "      <td>0.607089</td>\n",
       "      <td>0.801208</td>\n",
       "      <td>0.340283</td>\n",
       "      <td>0.898917</td>\n",
       "    </tr>\n",
       "    <tr>\n",
       "      <th>3</th>\n",
       "      <td>0.531782</td>\n",
       "      <td>0.824271</td>\n",
       "      <td>0.303414</td>\n",
       "      <td>0.910500</td>\n",
       "    </tr>\n",
       "    <tr>\n",
       "      <th>4</th>\n",
       "      <td>0.487456</td>\n",
       "      <td>0.839292</td>\n",
       "      <td>0.285789</td>\n",
       "      <td>0.914583</td>\n",
       "    </tr>\n",
       "    <tr>\n",
       "      <th>5</th>\n",
       "      <td>0.463872</td>\n",
       "      <td>0.849063</td>\n",
       "      <td>0.269014</td>\n",
       "      <td>0.920583</td>\n",
       "    </tr>\n",
       "    <tr>\n",
       "      <th>6</th>\n",
       "      <td>0.439377</td>\n",
       "      <td>0.856146</td>\n",
       "      <td>0.257393</td>\n",
       "      <td>0.921833</td>\n",
       "    </tr>\n",
       "    <tr>\n",
       "      <th>7</th>\n",
       "      <td>0.425161</td>\n",
       "      <td>0.862792</td>\n",
       "      <td>0.248790</td>\n",
       "      <td>0.926167</td>\n",
       "    </tr>\n",
       "    <tr>\n",
       "      <th>8</th>\n",
       "      <td>0.413842</td>\n",
       "      <td>0.866063</td>\n",
       "      <td>0.245301</td>\n",
       "      <td>0.929250</td>\n",
       "    </tr>\n",
       "    <tr>\n",
       "      <th>9</th>\n",
       "      <td>0.406537</td>\n",
       "      <td>0.868688</td>\n",
       "      <td>0.241081</td>\n",
       "      <td>0.927667</td>\n",
       "    </tr>\n",
       "    <tr>\n",
       "      <th>10</th>\n",
       "      <td>0.399644</td>\n",
       "      <td>0.870250</td>\n",
       "      <td>0.235918</td>\n",
       "      <td>0.932750</td>\n",
       "    </tr>\n",
       "    <tr>\n",
       "      <th>11</th>\n",
       "      <td>0.389277</td>\n",
       "      <td>0.874313</td>\n",
       "      <td>0.230198</td>\n",
       "      <td>0.933083</td>\n",
       "    </tr>\n",
       "    <tr>\n",
       "      <th>12</th>\n",
       "      <td>0.375769</td>\n",
       "      <td>0.879229</td>\n",
       "      <td>0.225992</td>\n",
       "      <td>0.935250</td>\n",
       "    </tr>\n",
       "    <tr>\n",
       "      <th>13</th>\n",
       "      <td>0.369121</td>\n",
       "      <td>0.880625</td>\n",
       "      <td>0.222203</td>\n",
       "      <td>0.937167</td>\n",
       "    </tr>\n",
       "    <tr>\n",
       "      <th>14</th>\n",
       "      <td>0.365491</td>\n",
       "      <td>0.881021</td>\n",
       "      <td>0.219055</td>\n",
       "      <td>0.936833</td>\n",
       "    </tr>\n",
       "    <tr>\n",
       "      <th>15</th>\n",
       "      <td>0.355009</td>\n",
       "      <td>0.884354</td>\n",
       "      <td>0.212070</td>\n",
       "      <td>0.939917</td>\n",
       "    </tr>\n",
       "    <tr>\n",
       "      <th>16</th>\n",
       "      <td>0.352486</td>\n",
       "      <td>0.886354</td>\n",
       "      <td>0.213326</td>\n",
       "      <td>0.938417</td>\n",
       "    </tr>\n",
       "    <tr>\n",
       "      <th>17</th>\n",
       "      <td>0.344714</td>\n",
       "      <td>0.889083</td>\n",
       "      <td>0.213788</td>\n",
       "      <td>0.937167</td>\n",
       "    </tr>\n",
       "    <tr>\n",
       "      <th>18</th>\n",
       "      <td>0.339819</td>\n",
       "      <td>0.890458</td>\n",
       "      <td>0.215730</td>\n",
       "      <td>0.937917</td>\n",
       "    </tr>\n",
       "    <tr>\n",
       "      <th>19</th>\n",
       "      <td>0.334297</td>\n",
       "      <td>0.891875</td>\n",
       "      <td>0.212608</td>\n",
       "      <td>0.937667</td>\n",
       "    </tr>\n",
       "    <tr>\n",
       "      <th>20</th>\n",
       "      <td>0.333061</td>\n",
       "      <td>0.890750</td>\n",
       "      <td>0.209676</td>\n",
       "      <td>0.940833</td>\n",
       "    </tr>\n",
       "    <tr>\n",
       "      <th>21</th>\n",
       "      <td>0.330949</td>\n",
       "      <td>0.893104</td>\n",
       "      <td>0.211740</td>\n",
       "      <td>0.937167</td>\n",
       "    </tr>\n",
       "    <tr>\n",
       "      <th>22</th>\n",
       "      <td>0.327031</td>\n",
       "      <td>0.894479</td>\n",
       "      <td>0.211384</td>\n",
       "      <td>0.939750</td>\n",
       "    </tr>\n",
       "    <tr>\n",
       "      <th>23</th>\n",
       "      <td>0.322623</td>\n",
       "      <td>0.896167</td>\n",
       "      <td>0.209427</td>\n",
       "      <td>0.939917</td>\n",
       "    </tr>\n",
       "    <tr>\n",
       "      <th>24</th>\n",
       "      <td>0.312644</td>\n",
       "      <td>0.897271</td>\n",
       "      <td>0.209052</td>\n",
       "      <td>0.940917</td>\n",
       "    </tr>\n",
       "    <tr>\n",
       "      <th>25</th>\n",
       "      <td>0.316494</td>\n",
       "      <td>0.896854</td>\n",
       "      <td>0.207855</td>\n",
       "      <td>0.939583</td>\n",
       "    </tr>\n",
       "    <tr>\n",
       "      <th>26</th>\n",
       "      <td>0.311848</td>\n",
       "      <td>0.899396</td>\n",
       "      <td>0.204116</td>\n",
       "      <td>0.940833</td>\n",
       "    </tr>\n",
       "    <tr>\n",
       "      <th>27</th>\n",
       "      <td>0.311891</td>\n",
       "      <td>0.898875</td>\n",
       "      <td>0.206603</td>\n",
       "      <td>0.941500</td>\n",
       "    </tr>\n",
       "    <tr>\n",
       "      <th>28</th>\n",
       "      <td>0.307489</td>\n",
       "      <td>0.900542</td>\n",
       "      <td>0.208038</td>\n",
       "      <td>0.940333</td>\n",
       "    </tr>\n",
       "    <tr>\n",
       "      <th>29</th>\n",
       "      <td>0.309383</td>\n",
       "      <td>0.898708</td>\n",
       "      <td>0.208971</td>\n",
       "      <td>0.941167</td>\n",
       "    </tr>\n",
       "    <tr>\n",
       "      <th>30</th>\n",
       "      <td>0.306222</td>\n",
       "      <td>0.900979</td>\n",
       "      <td>0.204660</td>\n",
       "      <td>0.940500</td>\n",
       "    </tr>\n",
       "    <tr>\n",
       "      <th>31</th>\n",
       "      <td>0.303676</td>\n",
       "      <td>0.900833</td>\n",
       "      <td>0.203926</td>\n",
       "      <td>0.941250</td>\n",
       "    </tr>\n",
       "    <tr>\n",
       "      <th>32</th>\n",
       "      <td>0.297795</td>\n",
       "      <td>0.903542</td>\n",
       "      <td>0.205383</td>\n",
       "      <td>0.943833</td>\n",
       "    </tr>\n",
       "    <tr>\n",
       "      <th>33</th>\n",
       "      <td>0.294533</td>\n",
       "      <td>0.903979</td>\n",
       "      <td>0.205164</td>\n",
       "      <td>0.941333</td>\n",
       "    </tr>\n",
       "    <tr>\n",
       "      <th>34</th>\n",
       "      <td>0.294790</td>\n",
       "      <td>0.905354</td>\n",
       "      <td>0.209545</td>\n",
       "      <td>0.941167</td>\n",
       "    </tr>\n",
       "    <tr>\n",
       "      <th>35</th>\n",
       "      <td>0.292681</td>\n",
       "      <td>0.906604</td>\n",
       "      <td>0.207126</td>\n",
       "      <td>0.942333</td>\n",
       "    </tr>\n",
       "    <tr>\n",
       "      <th>36</th>\n",
       "      <td>0.292278</td>\n",
       "      <td>0.905125</td>\n",
       "      <td>0.206438</td>\n",
       "      <td>0.943667</td>\n",
       "    </tr>\n",
       "    <tr>\n",
       "      <th>37</th>\n",
       "      <td>0.290616</td>\n",
       "      <td>0.907687</td>\n",
       "      <td>0.209847</td>\n",
       "      <td>0.940750</td>\n",
       "    </tr>\n",
       "    <tr>\n",
       "      <th>38</th>\n",
       "      <td>0.291284</td>\n",
       "      <td>0.905500</td>\n",
       "      <td>0.205654</td>\n",
       "      <td>0.942250</td>\n",
       "    </tr>\n",
       "    <tr>\n",
       "      <th>39</th>\n",
       "      <td>0.289834</td>\n",
       "      <td>0.906896</td>\n",
       "      <td>0.211914</td>\n",
       "      <td>0.940917</td>\n",
       "    </tr>\n",
       "  </tbody>\n",
       "</table>\n",
       "</div>"
      ],
      "text/plain": [
       "        loss  accuracy  val_loss  val_accuracy\n",
       "0   1.589058  0.434417  0.625105      0.799583\n",
       "1   0.785504  0.732771  0.438433      0.869083\n",
       "2   0.607089  0.801208  0.340283      0.898917\n",
       "3   0.531782  0.824271  0.303414      0.910500\n",
       "4   0.487456  0.839292  0.285789      0.914583\n",
       "5   0.463872  0.849063  0.269014      0.920583\n",
       "6   0.439377  0.856146  0.257393      0.921833\n",
       "7   0.425161  0.862792  0.248790      0.926167\n",
       "8   0.413842  0.866063  0.245301      0.929250\n",
       "9   0.406537  0.868688  0.241081      0.927667\n",
       "10  0.399644  0.870250  0.235918      0.932750\n",
       "11  0.389277  0.874313  0.230198      0.933083\n",
       "12  0.375769  0.879229  0.225992      0.935250\n",
       "13  0.369121  0.880625  0.222203      0.937167\n",
       "14  0.365491  0.881021  0.219055      0.936833\n",
       "15  0.355009  0.884354  0.212070      0.939917\n",
       "16  0.352486  0.886354  0.213326      0.938417\n",
       "17  0.344714  0.889083  0.213788      0.937167\n",
       "18  0.339819  0.890458  0.215730      0.937917\n",
       "19  0.334297  0.891875  0.212608      0.937667\n",
       "20  0.333061  0.890750  0.209676      0.940833\n",
       "21  0.330949  0.893104  0.211740      0.937167\n",
       "22  0.327031  0.894479  0.211384      0.939750\n",
       "23  0.322623  0.896167  0.209427      0.939917\n",
       "24  0.312644  0.897271  0.209052      0.940917\n",
       "25  0.316494  0.896854  0.207855      0.939583\n",
       "26  0.311848  0.899396  0.204116      0.940833\n",
       "27  0.311891  0.898875  0.206603      0.941500\n",
       "28  0.307489  0.900542  0.208038      0.940333\n",
       "29  0.309383  0.898708  0.208971      0.941167\n",
       "30  0.306222  0.900979  0.204660      0.940500\n",
       "31  0.303676  0.900833  0.203926      0.941250\n",
       "32  0.297795  0.903542  0.205383      0.943833\n",
       "33  0.294533  0.903979  0.205164      0.941333\n",
       "34  0.294790  0.905354  0.209545      0.941167\n",
       "35  0.292681  0.906604  0.207126      0.942333\n",
       "36  0.292278  0.905125  0.206438      0.943667\n",
       "37  0.290616  0.907687  0.209847      0.940750\n",
       "38  0.291284  0.905500  0.205654      0.942250\n",
       "39  0.289834  0.906896  0.211914      0.940917"
      ]
     },
     "execution_count": 4,
     "metadata": {},
     "output_type": "execute_result"
    }
   ],
   "source": [
    "hist=pd.DataFrame(h.history)\n",
    "hist"
   ]
  },
  {
   "cell_type": "markdown",
   "id": "28973969",
   "metadata": {},
   "source": [
    "# Plot Model Accuracy during training:-"
   ]
  },
  {
   "cell_type": "code",
   "execution_count": 5,
   "id": "599f8dbf",
   "metadata": {},
   "outputs": [
    {
     "data": {
      "image/png": "[encoded data removed]",
      "text/plain": [
       "<Figure size 640x480 with 1 Axes>"
      ]
     },
     "metadata": {},
     "output_type": "display_data"
    }
   ],
   "source": [
    "import matplotlib.pyplot as plt\n",
    "plt.plot(hist.index,hist['accuracy'])\n",
    "plt.xlabel('epochs')\n",
    "plt.ylabel('Accuracy')\n",
    "plt.title('Train_Model Accuracy Graph')\n",
    "plt.show()"
   ]
  },
  {
   "cell_type": "markdown",
   "id": "70c8816b",
   "metadata": {},
   "source": [
    "# Model Testing through Test Data:-"
   ]
  },
  {
   "cell_type": "code",
   "execution_count": 13,
   "id": "b6d02c0a",
   "metadata": {},
   "outputs": [],
   "source": [
    "df_test=pd.read_csv('mnist_test.csv')\n",
    "X_test=df_test.drop('label',axis=1)\n",
    "X_test=X_test/255\n",
    "y_test=df_test['label']"
   ]
  },
  {
   "cell_type": "code",
   "execution_count": 14,
   "id": "dce94953",
   "metadata": {},
   "outputs": [
    {
     "data": {
      "text/plain": [
       "(10000, 784)"
      ]
     },
     "execution_count": 14,
     "metadata": {},
     "output_type": "execute_result"
    }
   ],
   "source": [
    "X_test.shape"
   ]
  },
  {
   "cell_type": "markdown",
   "id": "53e9e568",
   "metadata": {},
   "source": [
    "## Model Accuracy and cf during testing:-"
   ]
  },
  {
   "cell_type": "code",
   "execution_count": 15,
   "id": "090e3276",
   "metadata": {},
   "outputs": [
    {
     "name": "stdout",
     "output_type": "stream",
     "text": [
      "313/313 [==============================] - 1s 2ms/step\n",
      "Accuracy: 0.9434\n",
      "[[ 966    1    2    0    2    2    4    1    2    0]\n",
      " [   0 1112    2    5    1    4    4    2    5    0]\n",
      " [   7    4  960   18    6    4   10    5   17    1]\n",
      " [   3    0   18  943    0   29    1   10    5    1]\n",
      " [   1    0    5    1  936    0   11    3    2   23]\n",
      " [   6    1    3   17    4  819   11    6   18    7]\n",
      " [  14    3    5    0    8   12  915    0    1    0]\n",
      " [   1    9   16   10    7    1    0  976    2    6]\n",
      " [  13    6    2   17    8   21    7    6  886    8]\n",
      " [   6    4    1    8   32   11    1   18    7  921]]\n"
     ]
    }
   ],
   "source": [
    "import numpy as np\n",
    "y_pred=model.predict(X_test)\n",
    "\n",
    "y_pred_1 = np.argmax(y_pred, axis=1)\n",
    "\n",
    "# Calculate the accuracy of the model\n",
    "accuracy = accuracy_score(y_test, y_pred_1)\n",
    "\n",
    "print(\"Accuracy:\", accuracy)\n",
    "cf=confusion_matrix(y_test, y_pred_1)\n",
    "print(cf)"
   ]
  },
  {
   "cell_type": "markdown",
   "id": "32c2ca8a",
   "metadata": {},
   "source": [
    "# Model Overview Graph:-"
   ]
  },
  {
   "cell_type": "code",
   "execution_count": 40,
   "id": "c23e8704",
   "metadata": {},
   "outputs": [
    {
     "data": {
      "image/png": "[encoded data removed]",
      "text/plain": [
       "<IPython.core.display.Image object>"
      ]
     },
     "execution_count": 40,
     "metadata": {},
     "output_type": "execute_result"
    }
   ],
   "source": [
    "from tensorflow.keras.utils import plot_model\n",
    "plot_model(model,show_shapes=True, show_layer_names=True,rankdir='TB')"
   ]
  },
  {
   "cell_type": "code",
   "execution_count": 19,
   "id": "4a92ba20",
   "metadata": {},
   "outputs": [
    {
     "data": {
      "text/plain": [
       "'Input_Layer'"
      ]
     },
     "execution_count": 19,
     "metadata": {},
     "output_type": "execute_result"
    }
   ],
   "source": [
    ">>> model.layers[0].name"
   ]
  },
  {
   "cell_type": "code",
   "execution_count": 20,
   "id": "828ace53",
   "metadata": {},
   "outputs": [
    {
     "data": {
      "text/plain": [
       "'Dropout_Layer'"
      ]
     },
     "execution_count": 20,
     "metadata": {},
     "output_type": "execute_result"
    }
   ],
   "source": [
    ">>> model.layers[1].name"
   ]
  },
  {
   "cell_type": "code",
   "execution_count": 21,
   "id": "44b9bd0e",
   "metadata": {},
   "outputs": [
    {
     "data": {
      "text/plain": [
       "'Output_Layer'"
      ]
     },
     "execution_count": 21,
     "metadata": {},
     "output_type": "execute_result"
    }
   ],
   "source": [
    ">>> model.layers[2].name"
   ]
  },
  {
   "cell_type": "markdown",
   "id": "a55f7e71",
   "metadata": {},
   "source": [
    "## Plotting Model Weights and Biases of each layer:-"
   ]
  },
  {
   "cell_type": "code",
   "execution_count": 36,
   "id": "05e9935c",
   "metadata": {},
   "outputs": [
    {
     "data": {
      "text/plain": [
       "<Figure size 70000x800 with 0 Axes>"
      ]
     },
     "execution_count": 36,
     "metadata": {},
     "output_type": "execute_result"
    },
    {
     "data": {
      "image/png": "[encoded data removed]",
      "text/plain": [
       "<Figure size 640x480 with 1 Axes>"
      ]
     },
     "metadata": {},
     "output_type": "display_data"
    },
    {
     "data": {
      "text/plain": [
       "<Figure size 70000x800 with 0 Axes>"
      ]
     },
     "metadata": {},
     "output_type": "display_data"
    }
   ],
   "source": [
    "weights_layer1, biases_layer1 = model.layers[0].get_weights()\n",
    "weights_layer3, biases_layer3 = model.layers[2].get_weights()\n",
    "\n",
    "plt.subplot(3,1,1)\n",
    "plt.plot(weights_layer1.reshape(-1))\n",
    "plt.xlabel('weights_layer1')\n",
    "plt.figure(figsize=(700,8))"
   ]
  },
  {
   "cell_type": "code",
   "execution_count": 35,
   "id": "de5ea2b0",
   "metadata": {},
   "outputs": [
    {
     "data": {
      "image/png": "[encoded data removed]",
      "text/plain": [
       "<Figure size 640x480 with 1 Axes>"
      ]
     },
     "metadata": {},
     "output_type": "display_data"
    },
    {
     "data": {
      "text/plain": [
       "<Figure size 30000x7000 with 0 Axes>"
      ]
     },
     "metadata": {},
     "output_type": "display_data"
    }
   ],
   "source": [
    "plt.subplot(3,1,2)\n",
    "plt.plot(weights_layer3.reshape(-1))\n",
    "plt.xlabel('weights_layer3')\n",
    "plt.figure(figsize=(300,70))\n",
    "plt.show()"
   ]
  },
  {
   "cell_type": "code",
   "execution_count": 42,
   "id": "1960d204",
   "metadata": {},
   "outputs": [
    {
     "data": {
      "image/png": "[encoded data removed]",
      "text/plain": [
       "<Figure size 640x480 with 1 Axes>"
      ]
     },
     "metadata": {},
     "output_type": "display_data"
    },
    {
     "data": {
      "image/png": "[encoded data removed]",
      "text/plain": [
       "<Figure size 600x600 with 1 Axes>"
      ]
     },
     "metadata": {},
     "output_type": "display_data"
    },
    {
     "data": {
      "text/plain": [
       "<Figure size 600x600 with 0 Axes>"
      ]
     },
     "metadata": {},
     "output_type": "display_data"
    }
   ],
   "source": [
    "plt.subplot(3,1,1)\n",
    "plt.plot(biases_layer1)\n",
    "plt.xlabel('biases_layer1')\n",
    "plt.figure(figsize=(6,6))\n",
    "\n",
    "plt.subplots_adjust(wspace=0.5)\n",
    "plt.subplot(3,1,3)\n",
    "plt.plot(biases_layer3)\n",
    "plt.xlabel('biases_layer3')\n",
    "plt.figure(figsize=(6,6))\n",
    "plt.show()"
   ]
  }
 ],
 "metadata": {
  "kernelspec": {
   "display_name": "Python 3 (ipykernel)",
   "language": "python",
   "name": "python3"
  },
  "language_info": {
   "codemirror_mode": {
    "name": "ipython",
    "version": 3
   },
   "file_extension": ".py",
   "mimetype": "text/x-python",
   "name": "python",
   "nbconvert_exporter": "python",
   "pygments_lexer": "ipython3",
   "version": "3.9.13"
  }
 },
 "nbformat": 4,
 "nbformat_minor": 5
}
