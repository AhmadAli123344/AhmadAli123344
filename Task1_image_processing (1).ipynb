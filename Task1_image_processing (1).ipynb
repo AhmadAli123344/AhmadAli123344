{
 "cells": [
  {
   "cell_type": "markdown",
   "id": "e2573153",
   "metadata": {},
   "source": [
    "# Module03-18-07-2023 \n",
    "# Ahmad Ali C1-04"
   ]
  },
  {
   "cell_type": "markdown",
   "id": "d189bf8a",
   "metadata": {},
   "source": [
    "# Uploading Pic"
   ]
  },
  {
   "cell_type": "code",
   "execution_count": 1,
   "id": "77a29bac",
   "metadata": {},
   "outputs": [
    {
     "name": "stdout",
     "output_type": "stream",
     "text": [
      "(229, 210, 3)\n"
     ]
    }
   ],
   "source": [
    "import cv2\n",
    "img = cv2.imread('PHOTO3.jpeg')\n",
    "cv2.imshow('image',img)\n",
    "cv2.waitKey(0)\n",
    "cv2.destroyAllWindows()\n",
    "print(img.shape)"
   ]
  },
  {
   "cell_type": "markdown",
   "id": "85e5cf79",
   "metadata": {},
   "source": [
    "# Task 1 Drawing Circles"
   ]
  },
  {
   "cell_type": "code",
   "execution_count": 26,
   "id": "73cc80df",
   "metadata": {},
   "outputs": [],
   "source": [
    "image = cv2.imread('PHOTO3.jpeg')\n",
    "center_coordinates = (100,90)\n",
    "radius = 80\n",
    "color = (255,0,0)#(BGR) ALL 0 mean black\n",
    "thickness = 2\n",
    "\n",
    "image= cv2.circle(image, center_coordinates,radius, color, thickness)\n",
    "cv2.imshow('image_1',image)\n",
    "cv2.waitKey(0)\n",
    "cv2.destroyAllWindows()"
   ]
  },
  {
   "cell_type": "markdown",
   "id": "e28df032",
   "metadata": {},
   "source": [
    "# Task 2 Drawing Rectangle"
   ]
  },
  {
   "cell_type": "code",
   "execution_count": 45,
   "id": "c720b6ab",
   "metadata": {},
   "outputs": [],
   "source": [
    "image=cv2.imread('PHOTO3.jpeg')\n",
    "color = (0, 255, 0)\n",
    "thickness = 2\n",
    "\n",
    "image= cv2.rectangle(image, (0,0),(207,227),color, thickness) #(image,start_point,end_point,color,thickness)\n",
    "\n",
    "cv2.imshow('image_1',image)\n",
    "cv2.waitKey(0)\n",
    "cv2.destroyAllWindows()"
   ]
  },
  {
   "cell_type": "code",
   "execution_count": 4,
   "id": "2fd5f20a",
   "metadata": {},
   "outputs": [],
   "source": [
    "# import matplotlib.pyplot as plt\n",
    "# plt.imshow(img)"
   ]
  },
  {
   "cell_type": "markdown",
   "id": "2b59b065",
   "metadata": {},
   "source": [
    "# Task 3 Merge Images"
   ]
  },
  {
   "cell_type": "code",
   "execution_count": 52,
   "id": "0187651d",
   "metadata": {},
   "outputs": [
    {
     "name": "stdout",
     "output_type": "stream",
     "text": [
      "(500, 500, 3)\n",
      "(500, 500, 3)\n"
     ]
    }
   ],
   "source": [
    "import numpy as np\n",
    "img_1= cv2.imread('3.jpg')\n",
    "img_2= cv2.imread('12.jpg')\n",
    "img_1=cv2.resize(img_1,(500,500))\n",
    "img_2=cv2.resize(img_2,(500,500))\n",
    "print(img_1.shape)\n",
    "print(img_2.shape)\n",
    "img=cv2.addWeighted(img_1,0.5,img_2,0.7,0.3)\n",
    "cv2.imshow('image_3',img)\n",
    "cv2.waitKey(0)\n",
    "cv2.destroyAllWindows()"
   ]
  },
  {
   "cell_type": "markdown",
   "id": "c83023d4",
   "metadata": {},
   "source": [
    "# Task 4 Making DataFrame of Image array with name"
   ]
  },
  {
   "cell_type": "code",
   "execution_count": 21,
   "id": "11103308",
   "metadata": {},
   "outputs": [
    {
     "data": {
      "text/html": [
       "<div>\n",
       "<style scoped>\n",
       "    .dataframe tbody tr th:only-of-type {\n",
       "        vertical-align: middle;\n",
       "    }\n",
       "\n",
       "    .dataframe tbody tr th {\n",
       "        vertical-align: top;\n",
       "    }\n",
       "\n",
       "    .dataframe thead th {\n",
       "        text-align: right;\n",
       "    }\n",
       "</style>\n",
       "<table border=\"1\" class=\"dataframe\">\n",
       "  <thead>\n",
       "    <tr style=\"text-align: right;\">\n",
       "      <th></th>\n",
       "      <th>Image_Array</th>\n",
       "      <th>name</th>\n",
       "    </tr>\n",
       "  </thead>\n",
       "  <tbody>\n",
       "    <tr>\n",
       "      <th>0</th>\n",
       "      <td>[253, 251, 243, 253, 251, 243, 253, 251, 243, ...</td>\n",
       "      <td>Ahmad Ali</td>\n",
       "    </tr>\n",
       "    <tr>\n",
       "      <th>1</th>\n",
       "      <td>[159, 181, 186, 173, 195, 200, 186, 208, 213, ...</td>\n",
       "      <td>Ahmad Ali</td>\n",
       "    </tr>\n",
       "    <tr>\n",
       "      <th>2</th>\n",
       "      <td>[243, 255, 254, 242, 255, 254, 240, 255, 255, ...</td>\n",
       "      <td>Ahmad Ali</td>\n",
       "    </tr>\n",
       "  </tbody>\n",
       "</table>\n",
       "</div>"
      ],
      "text/plain": [
       "                                         Image_Array       name\n",
       "0  [253, 251, 243, 253, 251, 243, 253, 251, 243, ...  Ahmad Ali\n",
       "1  [159, 181, 186, 173, 195, 200, 186, 208, 213, ...  Ahmad Ali\n",
       "2  [243, 255, 254, 242, 255, 254, 240, 255, 255, ...  Ahmad Ali"
      ]
     },
     "execution_count": 21,
     "metadata": {},
     "output_type": "execute_result"
    }
   ],
   "source": [
    "import pandas as pd\n",
    "import numpy as np\n",
    "\n",
    "image1=cv2.imread('image1.jpg')\n",
    "image1=cv2.resize(image1,(400,400)) # Reshape Images\n",
    "image2=cv2.imread('image4.jpg')\n",
    "image2=cv2.resize(image2,(400,400))\n",
    "image3=cv2.imread('image3.jpg')\n",
    "image3=cv2.resize(image3,(400,400))\n",
    "\n",
    "# To show Images:-\n",
    "\n",
    "cv2.imshow('image1',image1)\n",
    "cv2.imshow('image2',image2)\n",
    "cv2.imshow('image3',image3)\n",
    "\n",
    "cv2.waitKey(0)\n",
    "cv2.destroyAllWindows()\n",
    "\n",
    "# To conver image into Array:-\n",
    "\n",
    "a=image1.flatten()\n",
    "b=image2.flatten()\n",
    "c=image3.flatten()\n",
    "\n",
    "# make 3'D array to store all arrays:-\n",
    "\n",
    "d=np.array([a,b,c])\n",
    "l=[] # To store Array\n",
    "n=[] # To store name\n",
    "for i in range(len(d)): # to get all arrays from d:\n",
    "    l.append(d[i])\n",
    "    n.append('Ahmad Ali')\n",
    "# Make Data Frame with image and name:-\n",
    "\n",
    "df=pd.DataFrame({\n",
    "    'Image_Array':l,\n",
    "    'name':n\n",
    "})\n",
    "df # !! Take 3 images because computation take alot of time:"
   ]
  }
 ],
 "metadata": {
  "kernelspec": {
   "display_name": "Python 3 (ipykernel)",
   "language": "python",
   "name": "python3"
  },
  "language_info": {
   "codemirror_mode": {
    "name": "ipython",
    "version": 3
   },
   "file_extension": ".py",
   "mimetype": "text/x-python",
   "name": "python",
   "nbconvert_exporter": "python",
   "pygments_lexer": "ipython3",
   "version": "3.9.13"
  }
 },
 "nbformat": 4,
 "nbformat_minor": 5
}
