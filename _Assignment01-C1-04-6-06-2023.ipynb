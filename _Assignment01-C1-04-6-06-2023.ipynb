{
 "cells": [
  {
   "cell_type": "markdown",
   "id": "ba78dee4",
   "metadata": {},
   "source": [
    "# Assignment01-C1-04-6-06-2023\n",
    "# Ahmad Ali"
   ]
  },
  {
   "cell_type": "markdown",
   "id": "4f8e8c70",
   "metadata": {},
   "source": [
    "# Task 1"
   ]
  },
  {
   "cell_type": "code",
   "execution_count": 10,
   "id": "b6368953",
   "metadata": {},
   "outputs": [
    {
     "name": "stdout",
     "output_type": "stream",
     "text": [
      "[[0 1 2 3 4]\n",
      " [5 6 7 8 9]\n",
      " [1 1 1 1 1]\n",
      " [1 1 1 1 1]]\n"
     ]
    }
   ],
   "source": [
    "import numpy as np\n",
    "a=np.arange(10).reshape(2,-1)\n",
    "# print(a)\n",
    "b=np.repeat(1,10).reshape(2,-1)\n",
    "# print(b)\n",
    "arr=np.vstack((a,b))\n",
    "print(arr)"
   ]
  },
  {
   "cell_type": "markdown",
   "id": "f8956458",
   "metadata": {},
   "source": [
    "# Task 2"
   ]
  },
  {
   "cell_type": "code",
   "execution_count": 24,
   "id": "56812be3",
   "metadata": {},
   "outputs": [
    {
     "data": {
      "text/plain": [
       "array([1, 1, 1, 2, 2, 2, 3, 3, 3, 1, 2, 3, 1, 2, 3])"
      ]
     },
     "execution_count": 24,
     "metadata": {},
     "output_type": "execute_result"
    }
   ],
   "source": [
    "a=np.array([1,2,3])\n",
    "b,c,d=np.repeat(a[0],3),np.repeat(a[1],3),np.repeat(a[2],3)\n",
    "e=np.array([b,c,d,a,a]).reshape(-1)\n",
    "e"
   ]
  },
  {
   "cell_type": "markdown",
   "id": "8a3378ff",
   "metadata": {},
   "source": [
    "# Task 3"
   ]
  },
  {
   "cell_type": "code",
   "execution_count": 99,
   "id": "ba207f80",
   "metadata": {},
   "outputs": [
    {
     "data": {
      "text/plain": [
       "array([6, 7, 9, 8, 9, 7, 5])"
      ]
     },
     "execution_count": 99,
     "metadata": {},
     "output_type": "execute_result"
    }
   ],
   "source": [
    "a=np.array([5,7,9,8,6,4,5])\n",
    "b=np.array([6,3,4,8,9,7,1])\n",
    "def pair_max(a,b):\n",
    "     return np.max((a,b),axis=0)\n",
    "pair_max(a,b)"
   ]
  },
  {
   "cell_type": "markdown",
   "id": "adf49068",
   "metadata": {},
   "source": [
    "# Task 4"
   ]
  },
  {
   "cell_type": "code",
   "execution_count": 37,
   "id": "30743095",
   "metadata": {},
   "outputs": [
    {
     "name": "stdout",
     "output_type": "stream",
     "text": [
      "[[1 2 3]\n",
      " [4 5 6]\n",
      " [7 8 9]]\n",
      "swap array\n",
      "[[1 2 3]\n",
      " [7 8 9]\n",
      " [4 5 6]]\n"
     ]
    }
   ],
   "source": [
    "a=np.array([[1,2,3],[4,5,6],[7,8,9]])\n",
    "print(a)\n",
    "a[[1,2]]=a[[2,1]]\n",
    "print('swap array')\n",
    "print(a)"
   ]
  },
  {
   "cell_type": "markdown",
   "id": "5fcb39f0",
   "metadata": {},
   "source": [
    "# Task 5"
   ]
  },
  {
   "cell_type": "code",
   "execution_count": 85,
   "id": "4d71e16d",
   "metadata": {},
   "outputs": [
    {
     "data": {
      "text/plain": [
       "array([1, 2, 3, 4])"
      ]
     },
     "execution_count": 85,
     "metadata": {},
     "output_type": "execute_result"
    }
   ],
   "source": [
    "a=np.array([1,2,3,4,5])\n",
    "b=np.array([5,6,7,8,9])\n",
    "a=np.delete(a,np.where(a==np.intersect1d(a,b)))\n",
    "a\n"
   ]
  }
 ],
 "metadata": {
  "kernelspec": {
   "display_name": "Python 3 (ipykernel)",
   "language": "python",
   "name": "python3"
  },
  "language_info": {
   "codemirror_mode": {
    "name": "ipython",
    "version": 3
   },
   "file_extension": ".py",
   "mimetype": "text/x-python",
   "name": "python",
   "nbconvert_exporter": "python",
   "pygments_lexer": "ipython3",
   "version": "3.9.13"
  }
 },
 "nbformat": 4,
 "nbformat_minor": 5
}
