{
 "cells": [
  {
   "cell_type": "markdown",
   "id": "995a4c7c",
   "metadata": {},
   "source": [
    "# Assignmnet 360_fruits Data\n",
    "# Ahmad Ali\n",
    "# C1-04\n"
   ]
  },
  {
   "cell_type": "code",
   "execution_count": 1,
   "id": "b4df049f",
   "metadata": {},
   "outputs": [],
   "source": [
    "import cv2\n",
    "import os # use to read folders and inside files\n",
    "folder_path=[\n",
    "    r'C:\\Users\\Ahmad Ali\\Desktop\\data\\fruits-360-original-size\\fruits-360-original-size\\Training\\apple_6',\n",
    "    r'C:\\Users\\Ahmad Ali\\Desktop\\data\\fruits-360-original-size\\fruits-360-original-size\\Training\\apple_braeburn_1'\n",
    "]"
   ]
  },
  {
   "cell_type": "code",
   "execution_count": 2,
   "id": "8815be41",
   "metadata": {},
   "outputs": [
    {
     "name": "stdout",
     "output_type": "stream",
     "text": [
      "apple_6\n",
      "apple_braeburn_1\n",
      "apple_crimson_snow_1\n"
     ]
    }
   ],
   "source": [
    "dataset=[]\n",
    "\n",
    "for name in folder_path: # range=no.of Folders (3)\n",
    "    folder_name=os.path.basename(name)   # get the name of folder's only\n",
    "    print(folder_name)\n",
    "    \n",
    "    for file in os.listdir(name): # range=no.of Files in folder so total iterations(total files in each folder)\n",
    "        image_path=os.path.join(name,file)\n",
    "    \n",
    "# Merge the [folder_path+image_file_name]     \n",
    "\n",
    "        if os.path.isfile(image_path):\n",
    "            image = cv2.imread(image_path, cv2.IMREAD_GRAYSCALE)\n",
    "            if image is not None:\n",
    "                resized_image = cv2.resize(image, (250,250))\n",
    "                flattened_image = resized_image.flatten().tolist()\n",
    "                dataset.append(flattened_image + [folder_name])\n"
   ]
  },
  {
   "cell_type": "code",
   "execution_count": 4,
   "id": "1a352a08",
   "metadata": {},
   "outputs": [],
   "source": [
    "import pandas as pd\n",
    "df=pd.DataFrame(dataset, columns=[f'pixel_{i+1}' for i in range(250*250)] +['label'])\n",
    "df.to_csv('Image_data.csv',index=False)"
   ]
  },
  {
   "cell_type": "code",
   "execution_count": 4,
   "id": "2670ad79",
   "metadata": {},
   "outputs": [],
   "source": [
    "X=df.drop('label',axis=1)\n",
    "X=X/255\n",
    "y=df['label']"
   ]
  },
  {
   "cell_type": "markdown",
   "id": "7321f1ac",
   "metadata": {},
   "source": [
    "# SVC"
   ]
  },
  {
   "cell_type": "code",
   "execution_count": 13,
   "id": "02e63ced",
   "metadata": {},
   "outputs": [
    {
     "name": "stdout",
     "output_type": "stream",
     "text": [
      "Accuracy of SVC=  1.0\n",
      "Confusion Matrix = \n",
      " [[60  0  0]\n",
      " [ 0 65  0]\n",
      " [ 0  0 66]]\n",
      "CPU Process time 12.5 sec\n"
     ]
    }
   ],
   "source": [
    "from sklearn.preprocessing import LabelEncoder\n",
    "from sklearn.model_selection import train_test_split\n",
    "from sklearn.svm import SVC\n",
    "from sklearn.metrics import accuracy_score,confusion_matrix\n",
    "import time\n",
    "\n",
    "lab=LabelEncoder()\n",
    "y1=lab.fit_transform(y)\n",
    "\n",
    "X_train,X_test,y_train,y_test=train_test_split(X,y1,test_size=0.2,random_state=42)\n",
    "\n",
    "st=time.process_time()\n",
    "\n",
    "model=SVC(kernel='linear',C=1)\n",
    "\n",
    "model.fit(X_train,y_train)\n",
    "\n",
    "y_pred=model.predict(X_test)\n",
    "\n",
    "acc1=accuracy_score(y_test,y_pred)\n",
    "print('Accuracy of SVC= ',acc1)\n",
    "\n",
    "con=confusion_matrix(y_test,y_pred)\n",
    "print('Confusion Matrix = \\n',con)\n",
    "\n",
    "end=time.process_time()\n",
    "\n",
    "tt=end-st\n",
    "print('CPU Process time',tt,'sec')\n"
   ]
  },
  {
   "cell_type": "markdown",
   "id": "3925a460",
   "metadata": {},
   "source": [
    "# Logistic Regression"
   ]
  },
  {
   "cell_type": "code",
   "execution_count": 7,
   "id": "a632c28c",
   "metadata": {},
   "outputs": [
    {
     "name": "stdout",
     "output_type": "stream",
     "text": [
      "Accuracy of Logistic Regression=  1.0\n",
      "Confusion Matrix = \n",
      " [[60  0  0]\n",
      " [ 0 65  0]\n",
      " [ 0  0 66]]\n",
      "CPU Process time 71.875 sec\n"
     ]
    }
   ],
   "source": [
    "import time\n",
    "st=time.process_time() # CPU process time calculation\n",
    "from sklearn.linear_model import LogisticRegression\n",
    "model1=LogisticRegression(max_iter=200)\n",
    "\n",
    "model1.fit(X_train,y_train)\n",
    "\n",
    "y_pred=model1.predict(X_test)\n",
    "\n",
    "acc2=accuracy_score(y_test,y_pred)\n",
    "print('Accuracy of Logistic Regression= ',acc2)\n",
    "\n",
    "con=confusion_matrix(y_test,y_pred)\n",
    "print('Confusion Matrix = \\n',con)\n",
    "end=time.process_time()\n",
    "\n",
    "tt1=end-st\n",
    "print('CPU Process time',tt1,'sec')"
   ]
  },
  {
   "cell_type": "markdown",
   "id": "a9a20f2b",
   "metadata": {},
   "source": [
    "# Decision Tree Classifier"
   ]
  },
  {
   "cell_type": "code",
   "execution_count": 8,
   "id": "d336e03e",
   "metadata": {},
   "outputs": [
    {
     "name": "stdout",
     "output_type": "stream",
     "text": [
      "Accuracy of Decision Tree Classifier=  1.0\n",
      "Confusion Matrix = \n",
      " [[60  0  0]\n",
      " [ 0 65  0]\n",
      " [ 0  0 66]]\n",
      "CPU Process time 13.75 sec\n"
     ]
    }
   ],
   "source": [
    "import time\n",
    "st=time.process_time() # CPU process time calculation\n",
    "\n",
    "# CPU time is how many seconds the CPU was busy.\n",
    "\n",
    "from sklearn.tree import DecisionTreeClassifier\n",
    "model1=DecisionTreeClassifier()\n",
    "\n",
    "model1.fit(X_train,y_train)\n",
    "\n",
    "y_pred=model1.predict(X_test)\n",
    "\n",
    "acc3=accuracy_score(y_test,y_pred)\n",
    "print('Accuracy of Decision Tree Classifier= ',acc3)\n",
    "\n",
    "con=confusion_matrix(y_test,y_pred)\n",
    "print('Confusion Matrix = \\n',con)\n",
    "end=time.process_time()\n",
    "\n",
    "tt2=end-st\n",
    "print('CPU Process time',tt2,'sec')"
   ]
  },
  {
   "cell_type": "markdown",
   "id": "90efdb13",
   "metadata": {},
   "source": [
    "# Random Forest Classifier"
   ]
  },
  {
   "cell_type": "code",
   "execution_count": 9,
   "id": "541d52f1",
   "metadata": {},
   "outputs": [
    {
     "name": "stdout",
     "output_type": "stream",
     "text": [
      "Accuracy of Random Forest Classifier=  1.0\n",
      "Confusion Matrix = \n",
      " [[60  0  0]\n",
      " [ 0 65  0]\n",
      " [ 0  0 66]]\n",
      "CPU Process time 6.3125 sec\n"
     ]
    }
   ],
   "source": [
    "import time\n",
    "st=time.process_time() # CPU process time calculation\n",
    "\n",
    "# CPU time is how many seconds the CPU was busy.\n",
    "\n",
    "from sklearn.ensemble import RandomForestClassifier\n",
    "model1=RandomForestClassifier()\n",
    "\n",
    "model1.fit(X_train,y_train)\n",
    "\n",
    "y_pred=model1.predict(X_test)\n",
    "\n",
    "acc4=accuracy_score(y_test,y_pred)\n",
    "print('Accuracy of Random Forest Classifier= ',acc4)\n",
    "\n",
    "con=confusion_matrix(y_test,y_pred)\n",
    "print('Confusion Matrix = \\n',con)\n",
    "end=time.process_time()\n",
    "\n",
    "tt3=end-st\n",
    "print('CPU Process time',tt3,'sec')"
   ]
  },
  {
   "cell_type": "markdown",
   "id": "397623bb",
   "metadata": {},
   "source": [
    "# K Neighbors Classifier"
   ]
  },
  {
   "cell_type": "code",
   "execution_count": 10,
   "id": "2eabc98d",
   "metadata": {},
   "outputs": [
    {
     "name": "stdout",
     "output_type": "stream",
     "text": [
      "Accuracy of K Neighbors Classifier=  1.0\n",
      "Confusion Matrix = \n",
      " [[60  0  0]\n",
      " [ 0 65  0]\n",
      " [ 0  0 66]]\n",
      "CPU Process time 3.921875 sec\n"
     ]
    }
   ],
   "source": [
    "import time\n",
    "st=time.process_time() # CPU process time calculation\n",
    "\n",
    "import numpy as np\n",
    "X_train = np.ascontiguousarray(X_train)\n",
    "X_test = np.ascontiguousarray(X_test)\n",
    "\n",
    "# CPU time is how many seconds the CPU was busy.\n",
    "\n",
    "from sklearn.neighbors import KNeighborsClassifier\n",
    "model1=KNeighborsClassifier()\n",
    "\n",
    "model1.fit(X_train,y_train)\n",
    "\n",
    "y_pred=model1.predict(X_test)\n",
    "\n",
    "acc5=accuracy_score(y_test,y_pred)\n",
    "print('Accuracy of K Neighbors Classifier= ',acc5)\n",
    "\n",
    "con=confusion_matrix(y_test,y_pred)\n",
    "print('Confusion Matrix = \\n',con)\n",
    "end=time.process_time()\n",
    "\n",
    "tt4=end-st\n",
    "print('CPU Process time',tt4,'sec')"
   ]
  },
  {
   "cell_type": "code",
   "execution_count": 16,
   "id": "92fe808a",
   "metadata": {},
   "outputs": [
    {
     "data": {
      "text/html": [
       "<div>\n",
       "<style scoped>\n",
       "    .dataframe tbody tr th:only-of-type {\n",
       "        vertical-align: middle;\n",
       "    }\n",
       "\n",
       "    .dataframe tbody tr th {\n",
       "        vertical-align: top;\n",
       "    }\n",
       "\n",
       "    .dataframe thead th {\n",
       "        text-align: right;\n",
       "    }\n",
       "</style>\n",
       "<table border=\"1\" class=\"dataframe\">\n",
       "  <thead>\n",
       "    <tr style=\"text-align: right;\">\n",
       "      <th></th>\n",
       "      <th>SVC_ACC</th>\n",
       "      <th>SVC_CPU_PT(sec)</th>\n",
       "      <th>Logistic_ACC</th>\n",
       "      <th>Logistic_CPU_PT(sec)</th>\n",
       "      <th>DTC_ACC</th>\n",
       "      <th>DTC_CPU_PT(sec)</th>\n",
       "      <th>RFC_ACC</th>\n",
       "      <th>RFC_CPU_PT(sec)</th>\n",
       "      <th>KNC</th>\n",
       "      <th>KNN_CPU_PT(sec)</th>\n",
       "      <th>Best wrt time(sec)</th>\n",
       "    </tr>\n",
       "  </thead>\n",
       "  <tbody>\n",
       "    <tr>\n",
       "      <th>0</th>\n",
       "      <td>1.0</td>\n",
       "      <td>12.5</td>\n",
       "      <td>1.0</td>\n",
       "      <td>71.875</td>\n",
       "      <td>1.0</td>\n",
       "      <td>13.75</td>\n",
       "      <td>1.0</td>\n",
       "      <td>6.3125</td>\n",
       "      <td>1.0</td>\n",
       "      <td>3.921875</td>\n",
       "      <td>KNN</td>\n",
       "    </tr>\n",
       "  </tbody>\n",
       "</table>\n",
       "</div>"
      ],
      "text/plain": [
       "   SVC_ACC  SVC_CPU_PT(sec)  Logistic_ACC  Logistic_CPU_PT(sec)  DTC_ACC  \\\n",
       "0      1.0             12.5           1.0                71.875      1.0   \n",
       "\n",
       "   DTC_CPU_PT(sec)  RFC_ACC  RFC_CPU_PT(sec)  KNC  KNN_CPU_PT(sec)  \\\n",
       "0            13.75      1.0           6.3125  1.0         3.921875   \n",
       "\n",
       "  Best wrt time(sec)  \n",
       "0                KNN  "
      ]
     },
     "execution_count": 16,
     "metadata": {},
     "output_type": "execute_result"
    }
   ],
   "source": [
    "a=pd.DataFrame({\n",
    "    'SVC_ACC':acc1,\n",
    "    'SVC_CPU_PT(sec)':tt,\n",
    "    'Logistic_ACC':acc2,\n",
    "    'Logistic_CPU_PT(sec)':tt1,\n",
    "    'DTC_ACC':acc3,\n",
    "    'DTC_CPU_PT(sec)':tt2,\n",
    "    'RFC_ACC':acc4,\n",
    "    'RFC_CPU_PT(sec)':tt3,\n",
    "    'KNC':acc5,\n",
    "    'KNN_CPU_PT(sec)':tt4,\n",
    "    'Best wrt time(sec)':'KNN'\n",
    "},index=[0])\n",
    "a"
   ]
  },
  {
   "cell_type": "markdown",
   "id": "4ad391b8",
   "metadata": {},
   "source": [
    "## AttributeError: 'Flags' object has no attribute 'c_contiguous'\n",
    "## Explaination:-\n",
    "The error occurs in the scikit-learn library while trying to compute distances between data points for the k-nearest neighbors (KNN) algorithm. In the KNN algorithm, distances between data points are calculated to find the k-nearest neighbors for each data point.\n",
    "\n",
    "The problem lies in how the input data is organized in memory. In Python, data can be stored in different memory layouts. Two common layouts are C-contiguous (row-major order) and Fortran-contiguous (column-major order). The distinction between these two memory layouts is important when performing certain operations on data, such as calculating distances between points.\n",
    "\n",
    "## C-contiguous (row-major order):-\n",
    "\n",
    "In the context of scikit-learn's KNN algorithm, the input data is expected to be in a C-contiguous memory layout. The C-contiguous layout means that the elements of each row in a 2D array are stored in adjacent memory locations, making it efficient to access consecutive elements in a row. This layout is suitable for most NumPy operations and many algorithms in scikit-learn.\n",
    "\n",
    "## Fortran-contiguous (column-major order):-\n",
    "\n",
    "On the other hand, Fortran-contiguous layout means that the elements of each column in a 2D array are stored in adjacent memory locations, making it efficient to access consecutive elements in a column.\n",
    "\n",
    "The error you encountered arises because scikit-learn's KNN algorithm requires C-contiguous memory layout for the input data. The c_contiguous attribute is used to check if the input data is in the required layout. If the input data is not C-contiguous, scikit-learn tries to use other available algorithms for computing distances that work with non-C-contiguous data. However, in some cases, these alternatives might not be available, leading to the AttributeError you encountered.\n",
    "\n",
    "To resolve the issue, you explicitly converted your input data to C-contiguous memory layout using np.ascontiguousarray, which ensures that the data is in the correct format for the KNN algorithm to work without any issues.\n",
    "\n",
    "In summary, the issue was caused by the memory layout of the input data not being C-contiguous, which is a requirement for scikit-learn's KNN algorithm. By converting the data to C-contiguous layout, the problem was resolved, and the algorithm could successfully compute distances and make predictions.\n",
    "\n",
    "# Solution\n",
    "X_train = np.ascontiguousarray(X_train)\n",
    "X_test = np.ascontiguousarray(X_test)"
   ]
  }
 ],
 "metadata": {
  "kernelspec": {
   "display_name": "Python 3 (ipykernel)",
   "language": "python",
   "name": "python3"
  },
  "language_info": {
   "codemirror_mode": {
    "name": "ipython",
    "version": 3
   },
   "file_extension": ".py",
   "mimetype": "text/x-python",
   "name": "python",
   "nbconvert_exporter": "python",
   "pygments_lexer": "ipython3",
   "version": "3.9.13"
  }
 },
 "nbformat": 4,
 "nbformat_minor": 5
}
