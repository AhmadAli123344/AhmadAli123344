{
 "cells": [
  {
   "cell_type": "markdown",
   "id": "16d5d973",
   "metadata": {},
   "source": [
    "# Assignment 1 C1-04\n",
    "## 26-05-2023\n",
    "## Ahmad Ali"
   ]
  },
  {
   "cell_type": "markdown",
   "id": "e48f886b",
   "metadata": {},
   "source": [
    "## Task 1"
   ]
  },
  {
   "cell_type": "code",
   "execution_count": 5,
   "id": "02b8b8b9",
   "metadata": {},
   "outputs": [
    {
     "name": "stdout",
     "output_type": "stream",
     "text": [
      "['Reading', 'Cricket', 'Programming', 'Learning', 'Designing', 'Snooker', 'Travelling', 'Poblem solving', 'Power system designing']\n"
     ]
    }
   ],
   "source": [
    "hobbies=[\"Reading\",\"Cricket\",\"Programming\",\"Learning\",\"Designing\",\"Snooker\",\"Travelling\",\"Poblem solving\",\"Power system designing\"]\n",
    "print(hobbies)"
   ]
  },
  {
   "cell_type": "markdown",
   "id": "20e1a940",
   "metadata": {},
   "source": [
    "## Task 2"
   ]
  },
  {
   "cell_type": "code",
   "execution_count": 96,
   "id": "12b8a7dc",
   "metadata": {},
   "outputs": [
    {
     "name": "stdout",
     "output_type": "stream",
     "text": [
      "Matric and inter marks: [915, 923]\n"
     ]
    }
   ],
   "source": [
    "marks=[915,923]\n",
    "print('Matric and inter marks:',marks)"
   ]
  },
  {
   "cell_type": "markdown",
   "id": "cfae6393",
   "metadata": {},
   "source": [
    "## Task 3"
   ]
  },
  {
   "cell_type": "code",
   "execution_count": 7,
   "id": "4d73d94b",
   "metadata": {},
   "outputs": [
    {
     "name": "stdout",
     "output_type": "stream",
     "text": [
      "Snooker\n"
     ]
    }
   ],
   "source": [
    "print(hobbies[5])\n"
   ]
  },
  {
   "cell_type": "markdown",
   "id": "3075dedd",
   "metadata": {},
   "source": [
    "## Task 4"
   ]
  },
  {
   "cell_type": "code",
   "execution_count": 29,
   "id": "e7e0ff4b",
   "metadata": {},
   "outputs": [
    {
     "name": "stdout",
     "output_type": "stream",
     "text": [
      "Intermediate marks are:  923\n",
      "max marks are 923\n",
      "min marks are 915\n"
     ]
    }
   ],
   "source": [
    "print('Intermediate marks are: ',marks[1])\n",
    "print('max marks are',max(marks))\n",
    "print('min marks are',min(marks))"
   ]
  },
  {
   "cell_type": "markdown",
   "id": "857f531b",
   "metadata": {},
   "source": [
    "## Task 5"
   ]
  },
  {
   "cell_type": "code",
   "execution_count": 46,
   "id": "61993528",
   "metadata": {},
   "outputs": [
    {
     "name": "stdout",
     "output_type": "stream",
     "text": [
      "Prime number 1\n",
      "even number 2\n",
      "Prime number 3\n",
      "even number 4\n",
      "Prime number 5\n",
      "even number 6\n",
      "Prime number 7\n",
      "even number 8\n",
      "Prime number 9\n",
      "even number 10\n"
     ]
    }
   ],
   "source": [
    "List=[1,2,3,4,5,6,7,8,9,10]\n",
    "for i in List:\n",
    "    if i%2==0:\n",
    "        print('even number',i)\n",
    "    if i%2!=0:\n",
    "        print('Prime number',i)"
   ]
  },
  {
   "cell_type": "markdown",
   "id": "27913c77",
   "metadata": {},
   "source": [
    "## Task 6"
   ]
  },
  {
   "cell_type": "code",
   "execution_count": 97,
   "id": "2f5f2a9f",
   "metadata": {},
   "outputs": [
    {
     "name": "stdout",
     "output_type": "stream",
     "text": [
      "{'brother 1': 'abdul', 'brother 2': 'rehman', 'brother 3': 'waqas', 'sister 1': 'ansha'}\n"
     ]
    }
   ],
   "source": [
    "sibling_name= {\n",
    "    'brother 1':'abdul',\n",
    "    'brother 2':'rehman',\n",
    "    'brother 3':'waqas',\n",
    "    'sister 1': 'ansha'\n",
    "    }\n",
    "print(sibling_name)"
   ]
  },
  {
   "cell_type": "markdown",
   "id": "9de29e7e",
   "metadata": {},
   "source": [
    "#   Task 7\n",
    "##  Print that how many wickets taken by Jamal"
   ]
  },
  {
   "cell_type": "code",
   "execution_count": 63,
   "id": "e430e46b",
   "metadata": {},
   "outputs": [
    {
     "name": "stdout",
     "output_type": "stream",
     "text": [
      "Wicket taken by jamal= 3\n"
     ]
    }
   ],
   "source": [
    "scoreboard = {\n",
    "                \"jamal\": {\n",
    "                    1: [0, \"WD\", \"No\", \"free hit+6\", \"catch\", 4, \"bowled\", 6, 0],\n",
    "                    2: [4,4,4,\"wicket\",\"wicket\",\"wicket\"],\n",
    "                    3: [0,0,0,0,1,0],\n",
    "                    4:[\"out\",\"NO+FREEHIT\",0,0,6,6,\"catch\"],\n",
    "            },\n",
    "                \"hamza\":{\n",
    "                1: [0, \"WD\", \"No\", \"free hit+6\", 0, 4, \"bowled\", 6, 0],\n",
    "                2: [4,4,4,\"wicket\",\"wicket\",\"wicket\"],\n",
    "                3: [0,0,0,0,1,0],\n",
    "                4:[\"out\",\"NO+FREEHIT\",0,\"catch\",6,6,\"out\"],\n",
    "\n",
    "            }\n",
    "        }\n",
    "wicket_jamal=0\n",
    "for i in scoreboard[\"jamal\"]:  # i get the keys from jamal dictionary.\n",
    "    for j in scoreboard[\"jamal\"][i]:  # all values store in j\n",
    "        if j==\"wicket\":\n",
    "             wicket_jamal=wicket_jamal+1\n",
    "print('Wicket taken by jamal=',wicket_jamal)\n",
    "\n",
    "            "
   ]
  },
  {
   "cell_type": "markdown",
   "id": "495d402d",
   "metadata": {},
   "source": [
    "#   Task 7\n",
    "##  Print that how many wickets taken by hamza"
   ]
  },
  {
   "cell_type": "code",
   "execution_count": 62,
   "id": "ec7ddc7d",
   "metadata": {},
   "outputs": [
    {
     "name": "stdout",
     "output_type": "stream",
     "text": [
      "Wicket taken by hamza= 3\n"
     ]
    }
   ],
   "source": [
    "scoreboard = {\n",
    "                \"jamal\": {\n",
    "                    1: [0, \"WD\", \"No\", \"free hit+6\", \"catch\", 4, \"bowled\", 6, 0],\n",
    "                    2: [4,4,4,\"wicket\",\"wicket\",\"wicket\"],\n",
    "                    3: [0,0,0,0,1,0],\n",
    "                    4:[\"out\",\"NO+FREEHIT\",0,0,6,6,\"catch\"],\n",
    "            },\n",
    "                \"hamza\":{\n",
    "                1: [0, \"WD\", \"No\", \"free hit+6\", 0, 4, \"bowled\", 6, 0],\n",
    "                2: [4,4,4,\"wicket\",\"wicket\",\"wicket\"],\n",
    "                3: [0,0,0,0,1,0],\n",
    "                4:[\"out\",\"NO+FREEHIT\",0,\"catch\",6,6,\"out\"],\n",
    "\n",
    "            }\n",
    "        }\n",
    "wicket_hamza=0\n",
    "for i in scoreboard[\"hamza\"]:  # i get the keys from jamal dictionary.\n",
    "    for j in scoreboard[\"hamza\"][i]:  # all values store in j\n",
    "        if j==\"wicket\":\n",
    "             wicket_hamza=wicket_hamza+1\n",
    "print('Wicket taken by hamza=',wicket_hamza)\n"
   ]
  },
  {
   "cell_type": "markdown",
   "id": "3bfe5a2c",
   "metadata": {},
   "source": [
    "# Task 7\n",
    "## Overall total wickets taken in match"
   ]
  },
  {
   "cell_type": "code",
   "execution_count": 69,
   "id": "821a0b36",
   "metadata": {},
   "outputs": [
    {
     "name": "stdout",
     "output_type": "stream",
     "text": [
      "Total wickets in a match are= 6\n"
     ]
    }
   ],
   "source": [
    "scoreboard = {\n",
    "                \"jamal\": {\n",
    "                    1: [0, \"WD\", \"No\", \"free hit+6\", \"catch\", 4, \"bowled\", 6, 0],\n",
    "                    2: [4,4,4,\"wicket\",\"wicket\",\"wicket\"],\n",
    "                    3: [0,0,0,0,1,0],\n",
    "                    4:[\"out\",\"NO+FREEHIT\",0,0,6,6,\"catch\"],\n",
    "            },\n",
    "                \"hamza\":{\n",
    "                1: [0, \"WD\", \"No\", \"free hit+6\", 0, 4, \"bowled\", 6, 0],\n",
    "                2: [4,4,4,\"wicket\",\"wicket\",\"wicket\"],\n",
    "                3: [0,0,0,0,1,0],\n",
    "                4:[\"out\",\"NO+FREEHIT\",0,\"catch\",6,6,\"out\"],\n",
    "\n",
    "            }\n",
    "        }\n",
    "Total_wickets=0\n",
    "for i in scoreboard:  # i get the keys from jamal dictionary.\n",
    "    for j in scoreboard[i]:  # all values store in j\n",
    "        for k in scoreboard[i][j]:\n",
    "            if k==\"wicket\":\n",
    "                 Total_wickets=Total_wickets+1\n",
    "print('Total wickets in a match are=',Total_wickets)"
   ]
  },
  {
   "cell_type": "markdown",
   "id": "2dc3ee07",
   "metadata": {},
   "source": [
    "# Task 7\n",
    "## Overall “WD” “NO” and total score of the match"
   ]
  },
  {
   "cell_type": "code",
   "execution_count": 82,
   "id": "11e050c0",
   "metadata": {},
   "outputs": [
    {
     "name": "stdout",
     "output_type": "stream",
     "text": [
      "Total wides in match= 2\n",
      "Total No-balls in match= 4\n",
      "Total sixes in match= 8\n",
      "Total fours in match=  8\n",
      "Total ones in match=  2\n",
      "Total score in match=  84\n"
     ]
    }
   ],
   "source": [
    "scoreboard = {\n",
    "                \"jamal\": {\n",
    "                    1: [0, \"WD\", \"No\", \"free hit+6\", \"catch\", 4, \"bowled\", 6, 0],\n",
    "                    2: [4,4,4,\"wicket\",\"wicket\",\"wicket\"],\n",
    "                    3: [0,0,0,0,1,0],\n",
    "                    4:[\"out\",\"NO+FREEHIT\",0,0,6,6,\"catch\"],\n",
    "            },\n",
    "                \"hamza\":{\n",
    "                1: [0, \"WD\", \"No\", \"free hit+6\", 0, 4, \"bowled\", 6, 0],\n",
    "                2: [4,4,4,\"wicket\",\"wicket\",\"wicket\"],\n",
    "                3: [0,0,0,0,1,0],\n",
    "                4:[\"out\",\"NO+FREEHIT\",0,\"catch\",6,6,\"out\"],\n",
    "\n",
    "            }\n",
    "        }\n",
    "total_WD=0\n",
    "total_No=0\n",
    "freehit_6=0\n",
    "total_sixes=0\n",
    "total_fours=0\n",
    "total_ones=0\n",
    "for i in scoreboard:  # i get the keys of the dictionary.\n",
    "    for j in scoreboard[i]:  # all keys in jamal and hamza data sets.\n",
    "        for k in scoreboard[i][j]:  # k store whole data of dictionary.\n",
    "            if k==\"WD\":\n",
    "                total_WD=total_WD+1\n",
    "            if k==\"No\" or k==\"NO+FREEHIT\":\n",
    "                total_No=total_No+1\n",
    "            if k==\"free hit+6\":\n",
    "                freehit_6=freehit_6+1\n",
    "            if k==6:\n",
    "                total_sixes=total_sixes+1\n",
    "            if k==4:\n",
    "                total_fours=total_fours+1\n",
    "            if k==1:\n",
    "                total_ones=total_ones+1\n",
    "print('Total wides in match=',total_WD)                \n",
    "print('Total No-balls in match=',total_No)\n",
    "print('Total sixes in match=',freehit_6+total_sixes)\n",
    "print('Total fours in match= ',total_fours)\n",
    "print('Total ones in match= ',total_ones)\n",
    "  print('Total score in match= ',2+(8*6)+(8*4)+2)\n",
    "                \n",
    "                 "
   ]
  },
  {
   "cell_type": "markdown",
   "id": "3bea650e",
   "metadata": {},
   "source": [
    "# Task 7\n",
    "## How much score given by Jamal"
   ]
  },
  {
   "cell_type": "code",
   "execution_count": 86,
   "id": "5d3f3b63",
   "metadata": {},
   "outputs": [
    {
     "name": "stdout",
     "output_type": "stream",
     "text": [
      "Total wides by jamal= 1\n",
      "Total sixes by jamal= 4\n",
      "Total fours by jamal=  4\n",
      "Total ones by jamal=  1\n",
      "Total score given by jamal in 4 Overs is = 42\n"
     ]
    }
   ],
   "source": [
    "scoreboard = {\n",
    "                \"jamal\": {\n",
    "                    1: [0, \"WD\", \"No\", \"free hit+6\", \"catch\", 4, \"bowled\", 6, 0],\n",
    "                    2: [4,4,4,\"wicket\",\"wicket\",\"wicket\"],\n",
    "                    3: [0,0,0,0,1,0],\n",
    "                    4:[\"out\",\"NO+FREEHIT\",0,0,6,6,\"catch\"],\n",
    "            },\n",
    "                \"hamza\":{\n",
    "                1: [0, \"WD\", \"No\", \"free hit+6\", 0, 4, \"bowled\", 6, 0],\n",
    "                2: [4,4,4,\"wicket\",\"wicket\",\"wicket\"],\n",
    "                3: [0,0,0,0,1,0],\n",
    "                4:[\"out\",\"NO+FREEHIT\",0,\"catch\",6,6,\"out\"],\n",
    "\n",
    "            }\n",
    "        }\n",
    "total_WD=0\n",
    "freehit_6=0\n",
    "total_sixes=0\n",
    "total_fours=0\n",
    "total_ones=0\n",
    "for i in scoreboard[\"jamal\"]:  # i get the keys from jamal dictionary.\n",
    "    for j in scoreboard[\"jamal\"][i]:  # all values store in j\n",
    "            if j==\"WD\":\n",
    "                    total_WD=total_WD+1\n",
    "            if j==\"free hit+6\":\n",
    "                    freehit_6=freehit_6+1\n",
    "            if j==6:\n",
    "                    total_sixes=total_sixes+1\n",
    "            if j==4:\n",
    "                    total_fours=total_fours+1\n",
    "            if j==1:\n",
    "                    total_ones=total_ones+1\n",
    "print('Total wides by jamal=',total_WD)                \n",
    "print('Total sixes by jamal=',freehit_6+total_sixes)\n",
    "print('Total fours by jamal= ',total_fours)\n",
    "print('Total ones by jamal= ',total_ones)\n",
    "print('Total score given by jamal in 4 Overs is =',1+(4*6)+(4*4)+1)\n",
    "                "
   ]
  },
  {
   "cell_type": "markdown",
   "id": "63d84419",
   "metadata": {},
   "source": [
    "# Task 7\n",
    "## How much score given by Hamza"
   ]
  },
  {
   "cell_type": "code",
   "execution_count": 87,
   "id": "315338d9",
   "metadata": {},
   "outputs": [
    {
     "name": "stdout",
     "output_type": "stream",
     "text": [
      "Total wides by hamza= 1\n",
      "Total sixes by hamza= 4\n",
      "Total fours by hamza=  4\n",
      "Total ones by hamza=  1\n",
      "Total score given by hamza in 4 Overs is = 42\n"
     ]
    }
   ],
   "source": [
    "scoreboard = {\n",
    "                \"jamal\": {\n",
    "                    1: [0, \"WD\", \"No\", \"free hit+6\", \"catch\", 4, \"bowled\", 6, 0],\n",
    "                    2: [4,4,4,\"wicket\",\"wicket\",\"wicket\"],\n",
    "                    3: [0,0,0,0,1,0],\n",
    "                    4:[\"out\",\"NO+FREEHIT\",0,0,6,6,\"catch\"],\n",
    "            },\n",
    "                \"hamza\":{\n",
    "                1: [0, \"WD\", \"No\", \"free hit+6\", 0, 4, \"bowled\", 6, 0],\n",
    "                2: [4,4,4,\"wicket\",\"wicket\",\"wicket\"],\n",
    "                3: [0,0,0,0,1,0],\n",
    "                4:[\"out\",\"NO+FREEHIT\",0,\"catch\",6,6,\"out\"],\n",
    "\n",
    "            }\n",
    "        }\n",
    "total_WD=0\n",
    "freehit_6=0\n",
    "total_sixes=0\n",
    "total_fours=0\n",
    "total_ones=0\n",
    "for i in scoreboard[\"hamza\"]:  # i get the keys from jamal dictionary.\n",
    "    for j in scoreboard[\"hamza\"][i]:  # all values store in j\n",
    "            if j==\"WD\":\n",
    "                    total_WD=total_WD+1\n",
    "            if j==\"free hit+6\":\n",
    "                    freehit_6=freehit_6+1\n",
    "            if j==6:\n",
    "                    total_sixes=total_sixes+1\n",
    "            if j==4:\n",
    "                    total_fours=total_fours+1\n",
    "            if j==1:\n",
    "                    total_ones=total_ones+1\n",
    "print('Total wides by hamza=',total_WD)                \n",
    "print('Total sixes by hamza=',freehit_6+total_sixes)\n",
    "print('Total fours by hamza= ',total_fours)\n",
    "print('Total ones by hamza= ',total_ones)\n",
    "print('Total score given by hamza in 4 Overs is =',1+(4*6)+(4*4)+1)"
   ]
  },
  {
   "cell_type": "markdown",
   "id": "9fae7b2c",
   "metadata": {},
   "source": [
    "# Task 7\n",
    "## How much score give in 2nd over of hamza."
   ]
  },
  {
   "cell_type": "code",
   "execution_count": 94,
   "id": "b6e5c809",
   "metadata": {},
   "outputs": [
    {
     "name": "stdout",
     "output_type": "stream",
     "text": [
      "Total wides by hamza in 2nd over= 0\n",
      "Total sixes by hamza in 2nd over= 0\n",
      "Total fours by hamza in 2nd over=  3\n",
      "Total ones by hamza in 2nd over=  0\n",
      "Total score given by hamza in 2nd is = 12\n"
     ]
    }
   ],
   "source": [
    "scoreboard = {\n",
    "                \"jamal\": {\n",
    "                    1: [0, \"WD\", \"No\", \"free hit+6\", \"catch\", 4, \"bowled\", 6, 0],\n",
    "                    2: [4,4,4,\"wicket\",\"wicket\",\"wicket\"],\n",
    "                    3: [0,0,0,0,1,0],\n",
    "                    4:[\"out\",\"NO+FREEHIT\",0,0,6,6,\"catch\"],\n",
    "            },\n",
    "                \"hamza\":{\n",
    "                1: [0, \"WD\", \"No\", \"free hit+6\", 0, 4, \"bowled\", 6, 0],\n",
    "                2: [4,4,4,\"wicket\",\"wicket\",\"wicket\"],\n",
    "                3: [0,0,0,0,1,0],\n",
    "                4:[\"out\",\"NO+FREEHIT\",0,\"catch\",6,6,\"out\"],\n",
    "\n",
    "            }\n",
    "        }\n",
    "total_WD=0\n",
    "freehit_6=0\n",
    "total_sixes=0\n",
    "total_fours=0\n",
    "total_ones=0\n",
    "a=scoreboard[\"hamza\"][2]   # get the data of hamza 2nd over.\n",
    "for i in a:\n",
    "    if i==\"WD\":\n",
    "        total_WD=total_WD+1\n",
    "    if i==\"free hit+6\":\n",
    "        freehit_6=freehit_6+1\n",
    "    if i==6:\n",
    "        total_sixes=total_sixes+1\n",
    "    if i==4:\n",
    "        total_fours=total_fours+1\n",
    "    if i==1:\n",
    "        total_ones=total_ones+1\n",
    "print('Total wides by hamza in 2nd over=',total_WD)                \n",
    "print('Total sixes by hamza in 2nd over=',freehit_6+total_sixes)\n",
    "print('Total fours by hamza in 2nd over= ',total_fours)\n",
    "print('Total ones by hamza in 2nd over= ',total_ones)\n",
    "print('Total score given by hamza in 2nd is =',total_WD+(freehit_6+total_sixes*6)+(total_fours*4)+total_ones)\n",
    "    \n",
    "    "
   ]
  },
  {
   "cell_type": "markdown",
   "id": "c255776a",
   "metadata": {},
   "source": [
    "# Task 7\n",
    "## How much score give in 2nd over of jamal."
   ]
  },
  {
   "cell_type": "code",
   "execution_count": 95,
   "id": "7f95b62c",
   "metadata": {},
   "outputs": [
    {
     "name": "stdout",
     "output_type": "stream",
     "text": [
      "Total wides by jamal in 2nd over= 0\n",
      "Total sixes by jamal in 2nd over= 0\n",
      "Total fours by jamal in 2nd over=  3\n",
      "Total ones by jamal in 2nd over=  0\n",
      "Total score given by jamal in 2nd is = 12\n"
     ]
    }
   ],
   "source": [
    "scoreboard = {\n",
    "                \"jamal\": {\n",
    "                    1: [0, \"WD\", \"No\", \"free hit+6\", \"catch\", 4, \"bowled\", 6, 0],\n",
    "                    2: [4,4,4,\"wicket\",\"wicket\",\"wicket\"],\n",
    "                    3: [0,0,0,0,1,0],\n",
    "                    4:[\"out\",\"NO+FREEHIT\",0,0,6,6,\"catch\"],\n",
    "            },\n",
    "                \"hamza\":{\n",
    "                1: [0, \"WD\", \"No\", \"free hit+6\", 0, 4, \"bowled\", 6, 0],\n",
    "                2: [4,4,4,\"wicket\",\"wicket\",\"wicket\"],\n",
    "                3: [0,0,0,0,1,0],\n",
    "                4:[\"out\",\"NO+FREEHIT\",0,\"catch\",6,6,\"out\"],\n",
    "\n",
    "            }\n",
    "        }\n",
    "total_WD=0\n",
    "freehit_6=0\n",
    "total_sixes=0\n",
    "total_fours=0\n",
    "total_ones=0\n",
    "a=scoreboard[\"jamal\"][2]   # get the data of jamal 2nd over.\n",
    "for i in a:\n",
    "    if i==\"WD\":\n",
    "        total_WD=total_WD+1\n",
    "    if i==\"free hit+6\":\n",
    "        freehit_6=freehit_6+1\n",
    "    if i==6:\n",
    "        total_sixes=total_sixes+1\n",
    "    if i==4:\n",
    "        total_fours=total_fours+1\n",
    "    if i==1:\n",
    "        total_ones=total_ones+1\n",
    "print('Total wides by jamal in 2nd over=',total_WD)                \n",
    "print('Total sixes by jamal in 2nd over=',freehit_6+total_sixes)\n",
    "print('Total fours by jamal in 2nd over= ',total_fours)\n",
    "print('Total ones by jamal in 2nd over= ',total_ones)\n",
    "print('Total score given by jamal in 2nd is =',total_WD+(freehit_6+total_sixes*6)+(total_fours*4)+total_ones)\n",
    "    \n",
    "    "
   ]
  },
  {
   "cell_type": "code",
   "execution_count": null,
   "id": "1da51eab",
   "metadata": {},
   "outputs": [],
   "source": []
  }
 ],
 "metadata": {
  "kernelspec": {
   "display_name": "Python 3 (ipykernel)",
   "language": "python",
   "name": "python3"
  },
  "language_info": {
   "codemirror_mode": {
    "name": "ipython",
    "version": 3
   },
   "file_extension": ".py",
   "mimetype": "text/x-python",
   "name": "python",
   "nbconvert_exporter": "python",
   "pygments_lexer": "ipython3",
   "version": "3.9.13"
  }
 },
 "nbformat": 4,
 "nbformat_minor": 5
}
