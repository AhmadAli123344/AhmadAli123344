{
 "cells": [
  {
   "cell_type": "markdown",
   "id": "3fd20b1e",
   "metadata": {},
   "source": [
    "# Assignment Module 3 12-7-2023\n",
    "# Ahmad Ali C1-04"
   ]
  },
  {
   "cell_type": "markdown",
   "id": "d39cfa63",
   "metadata": {},
   "source": [
    "# Task 1 \n",
    "# Decision Tree"
   ]
  },
  {
   "cell_type": "code",
   "execution_count": null,
   "id": "d981cc8a",
   "metadata": {},
   "outputs": [],
   "source": [
    "import pandas as pd\n",
    "import numpy as np\n",
    "df=pd.read_csv('Social_Network_Ads.csv')\n",
    "df.drop('User ID',axis=1,inplace=True)\n",
    "for i in range(len(df['Gender'])):\n",
    "    if df['Gender'].loc[i]=='Male':\n",
    "        df.at[i,'Gender']=0\n",
    "    if df['Gender'].loc[i]=='Female':\n",
    "        df.at[i,'Gender']=1"
   ]
  },
  {
   "cell_type": "code",
   "execution_count": null,
   "id": "376a0c38",
   "metadata": {},
   "outputs": [],
   "source": [
    "import matplotlib.pyplot as plt\n",
    "X=df['EstimatedSalary']\n",
    "Y=df['Age']\n",
    "plt.scatter(Y,X)\n",
    "plt.xlabel('Age')\n",
    "plt.ylabel('EstimatedSalary')\n",
    "plt.show()"
   ]
  },
  {
   "cell_type": "code",
   "execution_count": null,
   "id": "1ef0d1f1",
   "metadata": {},
   "outputs": [],
   "source": [
    "X=df.drop('Purchased',axis=1)\n",
    "from sklearn.preprocessing import StandardScaler\n",
    "from sklearn.model_selection import train_test_split\n",
    "from sklearn import tree\n",
    "from sklearn.metrics import accuracy_score, confusion_matrix\n",
    "lab=StandardScaler()\n",
    "X1=lab.fit_transform(X)\n",
    "y=df['Purchased']\n",
    "\n",
    "X_train, X_test, y_train, y_test = train_test_split(X1, y, test_size=0.3,random_state=42)\n",
    "\n",
    "# Step 5:\n",
    "# Give data to Model for Training \n",
    "\n",
    "clf = tree.DecisionTreeClassifier()\n",
    "clf = clf.fit(X_train, y_train)\n",
    "\n",
    "# Step 6:\n",
    "# Test your model at test data set\n",
    "y_pred= clf.predict(X_test)\n",
    "\n",
    "# Generate confusion matrix\n",
    "cm = confusion_matrix(y_test, y_pred)\n",
    "print('Confusion Matrix:')\n",
    "print(cm)\n",
    "\n",
    "# Accuracy of Model\n",
    "accuracy = accuracy_score(y_test, y_pred)\n",
    "print('Accuracy:', accuracy*100)\n",
    "\n",
    "# Comparision\n",
    "a=pd.DataFrame({'y_actual':y_test,'y_pred':y_pred})\n",
    "a"
   ]
  },
  {
   "cell_type": "code",
   "execution_count": null,
   "id": "72f959de",
   "metadata": {},
   "outputs": [],
   "source": [
    "plt.figure(figsize=(10,10))\n",
    "b=tree.plot_tree(clf,filled=True)\n",
    "plt.show()"
   ]
  },
  {
   "cell_type": "markdown",
   "id": "2c7b7ec7",
   "metadata": {},
   "source": [
    "# Task 2\n",
    "# Random Forest"
   ]
  },
  {
   "cell_type": "code",
   "execution_count": null,
   "id": "3a75ee48",
   "metadata": {},
   "outputs": [],
   "source": [
    "from sklearn.ensemble import RandomForestClassifier\n",
    "classifier_rf = RandomForestClassifier(random_state=42, n_jobs=-1, max_depth=5,\n",
    "                                       n_estimators=150, oob_score=True)\n",
    "classifier_rf.fit(X_train, y_train)\n",
    "print('OOB Score= ',classifier_rf.oob_score_)\n",
    "y_pred=classifier_rf.predict(X_test)\n",
    "\n",
    "# Generate confusion matrix\n",
    "cm = confusion_matrix(y_test, y_pred)\n",
    "print('Confusion Matrix:')\n",
    "print(cm)\n",
    "\n",
    "# Accuracy of Model\n",
    "accuracy = accuracy_score(y_test, y_pred)\n",
    "print('Accuracy:', accuracy*100)\n",
    "b=pd.DataFrame({'y_actual':y_test,'y_pred':y_pred})\n",
    "b"
   ]
  },
  {
   "cell_type": "code",
   "execution_count": null,
   "id": "1384bf3a",
   "metadata": {},
   "outputs": [],
   "source": []
  }
 ],
 "metadata": {
  "kernelspec": {
   "display_name": "Python 3 (ipykernel)",
   "language": "python",
   "name": "python3"
  },
  "language_info": {
   "codemirror_mode": {
    "name": "ipython",
    "version": 3
   },
   "file_extension": ".py",
   "mimetype": "text/x-python",
   "name": "python",
   "nbconvert_exporter": "python",
   "pygments_lexer": "ipython3",
   "version": "3.9.13"
  }
 },
 "nbformat": 4,
 "nbformat_minor": 5
}
